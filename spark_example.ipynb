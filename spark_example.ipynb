{
 "cells": [
  {
   "cell_type": "code",
   "execution_count": 1,
   "metadata": {},
   "outputs": [
    {
     "name": "stdout",
     "output_type": "stream",
     "text": [
      "Welcome to\n",
      "      ____              __\n",
      "     / __/__  ___ _____/ /__\n",
      "    _\\ \\/ _ \\/ _ `/ __/  '_/\n",
      "   /__ / .__/\\_,_/_/ /_/\\_\\   version 2.4.7\n",
      "      /_/\n",
      "\n",
      "Using Python version 3.6.5 (default, Apr 29 2018 16:14:56)\n",
      "SparkSession available as 'spark'.\n"
     ]
    }
   ],
   "source": [
    "import os\n",
    "import sys\n",
    "\n",
    "os.environ[\"PYSPARK_SUBMIT_ARGS\"] = '--num-executors 4 pyspark-shell'\n",
    "os.environ[\"PYSPARK_PYTHON\"] = '/opt/anaconda/envs/bd9/bin/python'\n",
    "os.environ[\"SPARK_HOME\"] = '/usr/hdp/current/spark2-client'\n",
    "\n",
    "spark_home = os.environ.get('SPARK_HOME', None)\n",
    "if not spark_home:\n",
    "    raise ValueError('SPARK_HOME environment variable is not set')\n",
    "\n",
    "sys.path.insert(0, os.path.join(spark_home, 'python'))\n",
    "sys.path.insert(0, os.path.join(spark_home, 'python/lib/py4j-0.10.7-src.zip'))\n",
    "exec(open(os.path.join(spark_home, 'python/pyspark/shell.py')).read())"
   ]
  },
  {
   "cell_type": "code",
   "execution_count": 2,
   "metadata": {},
   "outputs": [],
   "source": [
    "import pyspark.sql.functions as f\n",
    "from pyspark.sql.types import *"
   ]
  },
  {
   "cell_type": "markdown",
   "metadata": {},
   "source": [
    "# Import data"
   ]
  },
  {
   "cell_type": "code",
   "execution_count": 3,
   "metadata": {},
   "outputs": [
    {
     "name": "stdout",
     "output_type": "stream",
     "text": [
      "196\t242\t3\t881250949\n",
      "186\t302\t3\t891717742\n",
      "22\t377\t1\t878887116\n",
      "244\t51\t2\t880606923\n",
      "166\t346\t1\t886397596\n",
      "298\t474\t4\t884182806\n",
      "115\t265\t2\t881171488\n",
      "253\t465\t5\t891628467\n",
      "305\t451\t3\t886324817\n",
      "6\t86\t3\t883603013\n",
      "cat: Unable to write to output stream.\n"
     ]
    }
   ],
   "source": [
    "!hadoop fs -head /labs/lab05data/ml-100k/u.data"
   ]
  },
  {
   "cell_type": "code",
   "execution_count": 6,
   "metadata": {},
   "outputs": [],
   "source": [
    "ratings_schema = StructType([\n",
    "    StructField(\"user_id\", IntegerType()),\n",
    "    StructField(\"item_id\", IntegerType()),\n",
    "    StructField(\"rating\", IntegerType()),\n",
    "    #StructField(\"timestamp\", IntegerType()),\n",
    "])\n",
    "\n",
    "ratings = (\n",
    "    spark.read\n",
    "    .option(\"sep\", \"\\t\")\n",
    "    .schema(ratings_schema)\n",
    "    .format(\"csv\")\n",
    "    .load(\"/labs/lab05data/ml-100k/u.data\")\n",
    ")"
   ]
  },
  {
   "cell_type": "code",
   "execution_count": 7,
   "metadata": {},
   "outputs": [
    {
     "name": "stdout",
     "output_type": "stream",
     "text": [
      "+-------+-------+------+\n",
      "|user_id|item_id|rating|\n",
      "+-------+-------+------+\n",
      "|    196|    242|     3|\n",
      "|    186|    302|     3|\n",
      "|     22|    377|     1|\n",
      "|    244|     51|     2|\n",
      "|    166|    346|     1|\n",
      "+-------+-------+------+\n",
      "only showing top 5 rows\n",
      "\n"
     ]
    }
   ],
   "source": [
    "ratings.show(5)"
   ]
  },
  {
   "cell_type": "code",
   "execution_count": 9,
   "metadata": {},
   "outputs": [],
   "source": [
    "movies_schema = StructType([\n",
    "    StructField(\"movie_id\", IntegerType()),\n",
    "    StructField(\"title\", StringType()),\n",
    "    StructField(\"release_date\", StringType()),\n",
    "])\n",
    "\n",
    "movies = (\n",
    "    spark.read\n",
    "    .option(\"sep\", \"|\")\n",
    "    .schema(movies_schema)\n",
    "    .format(\"csv\")\n",
    "    .load(\"/labs/lab05data/ml-100k/u.item\")\n",
    ")"
   ]
  },
  {
   "cell_type": "code",
   "execution_count": 10,
   "metadata": {},
   "outputs": [
    {
     "name": "stdout",
     "output_type": "stream",
     "text": [
      "+--------+-----------------+------------+\n",
      "|movie_id|            title|release_date|\n",
      "+--------+-----------------+------------+\n",
      "|       1| Toy Story (1995)| 01-Jan-1995|\n",
      "|       2| GoldenEye (1995)| 01-Jan-1995|\n",
      "|       3|Four Rooms (1995)| 01-Jan-1995|\n",
      "|       4|Get Shorty (1995)| 01-Jan-1995|\n",
      "|       5|   Copycat (1995)| 01-Jan-1995|\n",
      "+--------+-----------------+------------+\n",
      "only showing top 5 rows\n",
      "\n"
     ]
    }
   ],
   "source": [
    "movies.show(5)"
   ]
  },
  {
   "cell_type": "markdown",
   "metadata": {},
   "source": [
    "# Part 1. Dataset analysis"
   ]
  },
  {
   "cell_type": "markdown",
   "metadata": {},
   "source": [
    "Найдите количество всех пользователей и количество всех фильмов в данных (общее число пользователей и фильмов в датасете)."
   ]
  },
  {
   "cell_type": "code",
   "execution_count": 9,
   "metadata": {},
   "outputs": [
    {
     "data": {
      "text/plain": [
       "943"
      ]
     },
     "execution_count": 9,
     "metadata": {},
     "output_type": "execute_result"
    }
   ],
   "source": [
    "total_users = ratings.select(f.col(\"user_id\")).distinct().count()\n",
    "\n",
    "total_users"
   ]
  },
  {
   "cell_type": "code",
   "execution_count": 10,
   "metadata": {},
   "outputs": [
    {
     "data": {
      "text/plain": [
       "1682"
      ]
     },
     "execution_count": 10,
     "metadata": {},
     "output_type": "execute_result"
    }
   ],
   "source": [
    "total_movies = movies.select(f.col(\"movie_id\")).distinct().count()\n",
    "\n",
    "total_movies"
   ]
  },
  {
   "cell_type": "markdown",
   "metadata": {},
   "source": [
    "Сколько пользователь в среднем ставит рейтингов? Подсчитать `количество рейтингов` / `количество пользователей`. Поле average_user_ratings."
   ]
  },
  {
   "cell_type": "code",
   "execution_count": 12,
   "metadata": {},
   "outputs": [
    {
     "data": {
      "text/plain": [
       "100000"
      ]
     },
     "execution_count": 12,
     "metadata": {},
     "output_type": "execute_result"
    }
   ],
   "source": [
    "total_ratings = ratings.count()\n",
    "\n",
    "total_ratings"
   ]
  },
  {
   "cell_type": "code",
   "execution_count": 13,
   "metadata": {},
   "outputs": [
    {
     "data": {
      "text/plain": [
       "106.04453870625663"
      ]
     },
     "execution_count": 13,
     "metadata": {},
     "output_type": "execute_result"
    }
   ],
   "source": [
    "average_user_ratings = total_ratings / total_users\n",
    "\n",
    "average_user_ratings"
   ]
  },
  {
   "cell_type": "markdown",
   "metadata": {},
   "source": [
    "Сколько фильм в среднем имеет рейтингов? Подсчитать `количество рейтингов` / `количество фильмов`. Поле average_film_ratings."
   ]
  },
  {
   "cell_type": "code",
   "execution_count": 14,
   "metadata": {},
   "outputs": [
    {
     "data": {
      "text/plain": [
       "59.45303210463734"
      ]
     },
     "execution_count": 14,
     "metadata": {},
     "output_type": "execute_result"
    }
   ],
   "source": [
    "average_film_ratings = total_ratings / total_movies\n",
    "\n",
    "average_film_ratings"
   ]
  },
  {
   "cell_type": "markdown",
   "metadata": {},
   "source": [
    "Найдите процент заполненных ячеек в данных: `количество рейтингов` / (`количество пользователей` * `количество фильмов`). Поле completeness."
   ]
  },
  {
   "cell_type": "code",
   "execution_count": 15,
   "metadata": {},
   "outputs": [
    {
     "data": {
      "text/plain": [
       "0.06304669364224533"
      ]
     },
     "execution_count": 15,
     "metadata": {},
     "output_type": "execute_result"
    }
   ],
   "source": [
    "completeness = total_ratings / total_movies / total_users\n",
    "\n",
    "completeness"
   ]
  },
  {
   "cell_type": "markdown",
   "metadata": {},
   "source": [
    "# Part 2. User-user CF"
   ]
  },
  {
   "cell_type": "markdown",
   "metadata": {},
   "source": [
    "Для каждого пользователя найдите его средний рейтинг (`сумма рейтингов пользователя` / `количество рейтингов пользователя`). Здесь `Ia` — множество фильмов, по которым у пользователя есть рейтинги `rui`. Здесь и далее `|Ia|` обозначает количество элементов в множестве `Ia`."
   ]
  },
  {
   "cell_type": "code",
   "execution_count": 27,
   "metadata": {},
   "outputs": [
    {
     "name": "stdout",
     "output_type": "stream",
     "text": [
      "+-------+------------------+\n",
      "|user_id|   avg_rating_user|\n",
      "+-------+------------------+\n",
      "|    148|               4.0|\n",
      "|    463|2.8646616541353382|\n",
      "|    471|3.3870967741935485|\n",
      "|    496|3.0310077519379846|\n",
      "|    833| 3.056179775280899|\n",
      "+-------+------------------+\n",
      "only showing top 5 rows\n",
      "\n"
     ]
    }
   ],
   "source": [
    "users_avg = (\n",
    "    ratings\n",
    "    .groupBy(\"user_id\")\n",
    "    .agg(\n",
    "        f.count(\"rating\").alias(\"cnt_ratings\"), \n",
    "        f.sum(\"rating\").alias(\"sum_ratings\"),\n",
    "        #f.mean(\"rating\").alias(\"avg_rating_2\"),\n",
    "        #(f.sum(\"rating\") / f.count(\"rating\")).alias(\"avg_rating3\"), \n",
    "        \n",
    "    )\n",
    "    .withColumn(\"avg_rating_user\", f.col(\"sum_ratings\") / f.col(\"cnt_ratings\"))\n",
    "    .select(\"user_id\", \"avg_rating_user\")\n",
    "         \n",
    ")\n",
    "\n",
    "users_avg.show(5)"
   ]
  },
  {
   "cell_type": "markdown",
   "metadata": {},
   "source": [
    "### My user"
   ]
  },
  {
   "cell_type": "code",
   "execution_count": 14,
   "metadata": {},
   "outputs": [],
   "source": [
    "user_id = 804"
   ]
  },
  {
   "cell_type": "markdown",
   "metadata": {},
   "source": [
    "Посчитайте меру близости Пирсона выданного вам пользователя со всеми остальными пользователями. Обратите внимание, что корреляция Пирсона считается только на пересечении, то есть вклад вносят только фильмы, оцененные совместно (Ia, Iu — множества оцененных пользователями a и u фильмов). Корреляция с константой (ситуация, когда у пользователя все оценки одинаковые) равна нулю.\n",
    "\n",
    "Формат: `ID пользователя`; `корреляция Пирсона`."
   ]
  },
  {
   "cell_type": "code",
   "execution_count": 15,
   "metadata": {},
   "outputs": [
    {
     "name": "stdout",
     "output_type": "stream",
     "text": [
      "+-------+-------+------+\n",
      "|user_id|item_id|rating|\n",
      "+-------+-------+------+\n",
      "|    804|     11|     4|\n",
      "|    804|    546|     3|\n",
      "|    804|     31|     4|\n",
      "|    804|    204|     4|\n",
      "|    804|     82|     5|\n",
      "+-------+-------+------+\n",
      "only showing top 5 rows\n",
      "\n"
     ]
    }
   ],
   "source": [
    "my_user_data = ratings.filter(f.col(\"user_id\") == user_id)\n",
    "\n",
    "my_user_data.show(5)"
   ]
  },
  {
   "cell_type": "code",
   "execution_count": 16,
   "metadata": {},
   "outputs": [
    {
     "data": {
      "text/plain": [
       "[Row(user_id=804, cnt_ratings=332, sum_ratings=1217, avg_rating_2=3.6656626506024095, avg_rating3=3.6656626506024095, avg_rating_user=3.6656626506024095)]"
      ]
     },
     "execution_count": 16,
     "metadata": {},
     "output_type": "execute_result"
    }
   ],
   "source": [
    "users_avg.filter(f.col(\"user_id\") == user_id).collect()"
   ]
  },
  {
   "cell_type": "code",
   "execution_count": 21,
   "metadata": {},
   "outputs": [
    {
     "data": {
      "text/plain": [
       "3.6656626506024095"
      ]
     },
     "execution_count": 21,
     "metadata": {},
     "output_type": "execute_result"
    }
   ],
   "source": [
    "my_user_average_rating = users_avg.filter(f.col(\"user_id\") == user_id).collect()[0][\"avg_rating_user\"]\n",
    "\n",
    "my_user_average_rating"
   ]
  },
  {
   "cell_type": "code",
   "execution_count": 22,
   "metadata": {},
   "outputs": [
    {
     "name": "stdout",
     "output_type": "stream",
     "text": [
      "+-------+-------+------+----------+---------+------------------+\n",
      "|user_id|item_id|rating|my_user_id|my_rating|   avg_rating_user|\n",
      "+-------+-------+------+----------+---------+------------------+\n",
      "|    298|    474|     4|       804|        4| 4.031496062992126|\n",
      "|    115|    265|     2|       804|        4|3.9347826086956523|\n",
      "|    305|    451|     3|       804|        2|  3.40990990990991|\n",
      "|     62|    257|     2|       804|        5|3.3017241379310347|\n",
      "|    200|    222|     5|       804|        5| 4.032407407407407|\n",
      "+-------+-------+------+----------+---------+------------------+\n",
      "only showing top 5 rows\n",
      "\n"
     ]
    }
   ],
   "source": [
    "corr_matrix = (\n",
    "    ratings.alias(\"r\")\n",
    "    .join(my_user_data.alias(\"u\"), on=\"item_id\", how=\"inner\")\n",
    "    .join(users_avg.alias(\"a\"), on=\"user_id\", how=\"left\")\n",
    "    .select(\n",
    "        f.col(\"r.user_id\"),\n",
    "        f.col(\"r.item_id\"),\n",
    "        f.col(\"r.rating\"),\n",
    "        f.col(\"u.user_id\").alias(\"my_user_id\"),\n",
    "        f.col(\"u.rating\").alias(\"my_rating\"),\n",
    "        f.col(\"a.avg_rating_user\")\n",
    "    )\n",
    ")\n",
    "\n",
    "corr_matrix.show(5)"
   ]
  },
  {
   "cell_type": "markdown",
   "metadata": {},
   "source": [
    "Посчитайте поправочный коэффициент для корреляции Пирсона на нехватку данных"
   ]
  },
  {
   "cell_type": "code",
   "execution_count": 23,
   "metadata": {},
   "outputs": [
    {
     "name": "stdout",
     "output_type": "stream",
     "text": [
      "+-------+-------------------+------------+--------------------+\n",
      "|user_id|       pearson_corr|pearson_coef|         pearson_sua|\n",
      "+-------+-------------------+------------+--------------------+\n",
      "|    148|0.03400975940401584|        0.88|0.029928588275533942|\n",
      "|    471|0.08072405395165885|         0.3|0.024217216185497655|\n",
      "|    463| 0.3346271675106021|        0.64| 0.21416138720678535|\n",
      "|    496|0.17869619437114675|         1.0| 0.17869619437114675|\n",
      "|    833|0.15207442669742285|         1.0| 0.15207442669742285|\n",
      "+-------+-------------------+------------+--------------------+\n",
      "only showing top 5 rows\n",
      "\n"
     ]
    }
   ],
   "source": [
    "all_neighbours = (\n",
    "    corr_matrix\n",
    "    .filter(f.col(\"user_id\") != user_id)\n",
    "    .withColumn(\"pearson_a\", (f.col(\"rating\") - f.col(\"avg_rating_user\")))\n",
    "    .withColumn(\"pearson_u\", (f.col(\"my_rating\") - my_user_average_rating))\n",
    "    .groupBy(\"user_id\")\n",
    "    .agg(\n",
    "        (\n",
    "            f.sum(f.col(\"pearson_a\") * f.col(\"pearson_u\")) /\n",
    "            f.sum(f.col(\"pearson_a\") ** 2) ** 0.5 / \n",
    "            f.sum(f.col(\"pearson_u\") ** 2) ** 0.5\n",
    "        ).alias(\"pearson_corr\"),      \n",
    "        (f.count(\"item_id\") / 50).alias(\"pearson_coef\")\n",
    "    )\n",
    "    .withColumn(\"pearson_coef\", f.when(f.col(\"pearson_coef\") < 1, f.col(\"pearson_coef\")).otherwise(1))\n",
    "    .withColumn(\"pearson_sua\", f.col(\"pearson_coef\") * f.col(\"pearson_corr\"))\n",
    ")\n",
    "\n",
    "all_neighbours.show(5)"
   ]
  },
  {
   "cell_type": "markdown",
   "metadata": {},
   "source": [
    "Найдите 30 ближайших пользователей-соседей данного пользователя (pearson_neighbours), используя поправленную корреляцию Пирсона"
   ]
  },
  {
   "cell_type": "code",
   "execution_count": 24,
   "metadata": {},
   "outputs": [
    {
     "name": "stdout",
     "output_type": "stream",
     "text": [
      "+-------+------------------+\n",
      "|user_id|       pearson_sua|\n",
      "+-------+------------------+\n",
      "|     22|0.4865992050587391|\n",
      "|     57|0.4730087223914742|\n",
      "|    676|0.4716426914553552|\n",
      "|    851|0.4698629665905538|\n",
      "|     87|0.4670373480164366|\n",
      "+-------+------------------+\n",
      "only showing top 5 rows\n",
      "\n"
     ]
    }
   ],
   "source": [
    "pearson_neighbours = (\n",
    "    all_neighbours\n",
    "    .orderBy(f.col(\"pearson_sua\"), ascending=False)\n",
    "    .limit(30)\n",
    "    .select(\"user_id\", \"pearson_sua\")\n",
    ")\n",
    "\n",
    "pearson_neighbours.show(5)"
   ]
  },
  {
   "cell_type": "markdown",
   "metadata": {},
   "source": [
    "Для всех фильмов найдите прогноз оценки\n",
    "\n",
    "Здесь `N(a)` — множество пользователей-соседей, `s(a,u)` — мера близости пользователей из предыдущих пунктов, `|s(a,u)|` — модуль меры близости."
   ]
  },
  {
   "cell_type": "code",
   "execution_count": 29,
   "metadata": {},
   "outputs": [
    {
     "name": "stdout",
     "output_type": "stream",
     "text": [
      "+-------+------------------+-------+------+\n",
      "|item_id|  predicted_rating|user_id|rating|\n",
      "+-------+------------------+-------+------+\n",
      "|    148| 3.537618538552194|   null|  null|\n",
      "|    463| 3.779659821930994|   null|  null|\n",
      "|    471|3.9096954823179924|   null|  null|\n",
      "|    833|3.3859082444452375|   null|  null|\n",
      "|   1088| 2.628395569857068|   null|  null|\n",
      "+-------+------------------+-------+------+\n",
      "only showing top 5 rows\n",
      "\n"
     ]
    }
   ],
   "source": [
    "predicted_ratings = (\n",
    "    ratings\n",
    "    .join(pearson_neighbours, \"user_id\", \"inner\")\n",
    "    .join(users_avg, \"user_id\", \"left\")\n",
    "    .groupBy(\"item_id\")\n",
    "    .agg(\n",
    "        (\n",
    "            f.sum(f.col(\"pearson_sua\") * (f.col(\"rating\") - f.col(\"avg_rating_user\"))) / \n",
    "            f.sum(f.abs(f.col(\"pearson_sua\")))\n",
    "        ).alias(\"predicted_rating\")\n",
    "    )\n",
    "    .withColumn(\"predicted_rating\", my_user_average_rating + f.col(\"predicted_rating\"))\n",
    "    \n",
    "    .join(my_user_data, \"item_id\", \"left\")\n",
    "    .filter(f.col(\"user_id\").isNull())\n",
    ")\n",
    "\n",
    "predicted_ratings.show(5)"
   ]
  },
  {
   "cell_type": "code",
   "execution_count": null,
   "metadata": {},
   "outputs": [],
   "source": []
  },
  {
   "cell_type": "code",
   "execution_count": 53,
   "metadata": {},
   "outputs": [
    {
     "name": "stdout",
     "output_type": "stream",
     "text": [
      "+-------+-------+------+-------------------+\n",
      "|user_id|item_id|rating|        pearson_sua|\n",
      "+-------+-------+------+-------------------+\n",
      "|    186|    302|     3|0.38564109870497687|\n",
      "|     22|    377|     1| 0.4865992050587391|\n",
      "|    276|    796|     1| 0.3971373433091707|\n",
      "|    276|    564|     3| 0.3971373433091707|\n",
      "|     99|      4|     5| 0.4234990888967132|\n",
      "+-------+-------+------+-------------------+\n",
      "only showing top 5 rows\n",
      "\n"
     ]
    }
   ],
   "source": [
    "ratings.join(pearson_neighbours, [\"user_id\", \"item_id\"], \"inner\").show(5)"
   ]
  },
  {
   "cell_type": "code",
   "execution_count": 58,
   "metadata": {},
   "outputs": [
    {
     "name": "stdout",
     "output_type": "stream",
     "text": [
      "+-------+-------+\n",
      "|user_id|user_id|\n",
      "+-------+-------+\n",
      "|    186|    186|\n",
      "|     22|     22|\n",
      "|    276|    276|\n",
      "|    276|    276|\n",
      "|     99|     99|\n",
      "+-------+-------+\n",
      "only showing top 5 rows\n",
      "\n"
     ]
    }
   ],
   "source": [
    "(\n",
    "    ratings\n",
    "    .join(pearson_neighbours, f.col(\"user_id\") == f.col(\"account_id\"), \"left\")\n",
    "    .select(\n",
    "        f.col(\"user_id\"),\n",
    "        f.col(\"account_id\"),\n",
    "    )\n",
    "    .show(5)\n",
    ")"
   ]
  },
  {
   "cell_type": "code",
   "execution_count": 62,
   "metadata": {},
   "outputs": [],
   "source": [
    "spark.stop()"
   ]
  }
 ],
 "metadata": {
  "kernelspec": {
   "display_name": "Python 3",
   "language": "python",
   "name": "python3"
  },
  "language_info": {
   "codemirror_mode": {
    "name": "ipython",
    "version": 3
   },
   "file_extension": ".py",
   "mimetype": "text/x-python",
   "name": "python",
   "nbconvert_exporter": "python",
   "pygments_lexer": "ipython3",
   "version": "3.8.8"
  }
 },
 "nbformat": 4,
 "nbformat_minor": 4
}
