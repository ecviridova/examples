{
 "cells": [
  {
   "cell_type": "code",
   "execution_count": 1,
   "id": "31edd0ae-494c-4824-af4d-c755f4cd20a4",
   "metadata": {},
   "outputs": [],
   "source": [
    "import pandas as pd\n",
    "import numpy as np\n",
    "import matplotlib.pyplot as plt\n",
    "import seaborn as sns"
   ]
  },
  {
   "cell_type": "markdown",
   "id": "d1ff1d24-e8af-4272-8631-11d257d722b4",
   "metadata": {
    "tags": []
   },
   "source": [
    "### На основе двух датасетов определить, какие фильмы чаще всего получают высокий рейтинг и какие фильмы являются наиболее обсуждаемыми на платформе\n",
    "Описание полей датасета: **titles**\n",
    "```\n",
    "    - id: The title ID on JustWatch.\n",
    "    - title: The name of the title.\n",
    "    - show_type: TV show or movie.\n",
    "    - description: A brief description.\n",
    "    - release_year: The release year.\n",
    "    - age_certification: The age certification.\n",
    "    - runtime: The length of the episode (SHOW) or movie.\n",
    "    - genres: A list of genres.\n",
    "    - production_countries: A list of countries that produced the title.\n",
    "    - seasons: Number of seasons if it's a SHOW.\n",
    "    - imdb_id: The title ID on IMDB.\n",
    "    - imdb_score: Score on IMDB.\n",
    "    - imdb_votes: Votes on IMDB.\n",
    "    - tmdb_popularity: Popularity on TMDB.\n",
    "    - tmdb_score: Score on TMDB.\n",
    "```    \n",
    "Описание полей датасета **credits**. Данные сет содержит информацию об актерах\n",
    "и режиссерах\n",
    "```\n",
    "    - person_ID: The person ID on JustWatch.\n",
    "    - id: The title ID on JustWatch.\n",
    "    - name: The actor or director's name.\n",
    "    - character_name: The character name.\n",
    "    - role: ACTOR or DIRECTOR.\n",
    "```"
   ]
  },
  {
   "cell_type": "code",
   "execution_count": 2,
   "id": "03715d6c-9ae8-4aa7-a199-ce902eed447a",
   "metadata": {
    "tags": []
   },
   "outputs": [
    {
     "data": {
      "text/html": [
       "<div>\n",
       "<style scoped>\n",
       "    .dataframe tbody tr th:only-of-type {\n",
       "        vertical-align: middle;\n",
       "    }\n",
       "\n",
       "    .dataframe tbody tr th {\n",
       "        vertical-align: top;\n",
       "    }\n",
       "\n",
       "    .dataframe thead th {\n",
       "        text-align: right;\n",
       "    }\n",
       "</style>\n",
       "<table border=\"1\" class=\"dataframe\">\n",
       "  <thead>\n",
       "    <tr style=\"text-align: right;\">\n",
       "      <th></th>\n",
       "      <th>id</th>\n",
       "      <th>title</th>\n",
       "      <th>type</th>\n",
       "      <th>description</th>\n",
       "      <th>release_year</th>\n",
       "      <th>age_certification</th>\n",
       "      <th>runtime</th>\n",
       "      <th>genres</th>\n",
       "      <th>production_countries</th>\n",
       "      <th>seasons</th>\n",
       "      <th>imdb_id</th>\n",
       "      <th>imdb_score</th>\n",
       "      <th>imdb_votes</th>\n",
       "      <th>tmdb_popularity</th>\n",
       "      <th>tmdb_score</th>\n",
       "    </tr>\n",
       "  </thead>\n",
       "  <tbody>\n",
       "    <tr>\n",
       "      <th>571</th>\n",
       "      <td>tm29028</td>\n",
       "      <td>Salt of This Sea</td>\n",
       "      <td>MOVIE</td>\n",
       "      <td>Born in Brooklyn to Palestinian refugee parent...</td>\n",
       "      <td>2008</td>\n",
       "      <td>NaN</td>\n",
       "      <td>109</td>\n",
       "      <td>['drama', 'romance', 'european']</td>\n",
       "      <td>['BE', 'FR', 'ES', 'CH', 'PS']</td>\n",
       "      <td>NaN</td>\n",
       "      <td>tt1090680</td>\n",
       "      <td>6.8</td>\n",
       "      <td>1235.0</td>\n",
       "      <td>1.738</td>\n",
       "      <td>6.3</td>\n",
       "    </tr>\n",
       "    <tr>\n",
       "      <th>4417</th>\n",
       "      <td>tm435836</td>\n",
       "      <td>Mere Pyare Prime Minister</td>\n",
       "      <td>MOVIE</td>\n",
       "      <td>A story about four children living in a Mumbai...</td>\n",
       "      <td>2019</td>\n",
       "      <td>NaN</td>\n",
       "      <td>104</td>\n",
       "      <td>['drama']</td>\n",
       "      <td>['IN']</td>\n",
       "      <td>NaN</td>\n",
       "      <td>tt8207768</td>\n",
       "      <td>6.8</td>\n",
       "      <td>646.0</td>\n",
       "      <td>1.988</td>\n",
       "      <td>7.2</td>\n",
       "    </tr>\n",
       "    <tr>\n",
       "      <th>5362</th>\n",
       "      <td>tm1191860</td>\n",
       "      <td>Oprah + Viola: A Netflix Special Event</td>\n",
       "      <td>MOVIE</td>\n",
       "      <td>In this special event, Oprah Winfrey sits down...</td>\n",
       "      <td>2022</td>\n",
       "      <td>NaN</td>\n",
       "      <td>48</td>\n",
       "      <td>['documentation']</td>\n",
       "      <td>['US']</td>\n",
       "      <td>NaN</td>\n",
       "      <td>tt19404044</td>\n",
       "      <td>7.2</td>\n",
       "      <td>319.0</td>\n",
       "      <td>3.035</td>\n",
       "      <td>7.7</td>\n",
       "    </tr>\n",
       "  </tbody>\n",
       "</table>\n",
       "</div>"
      ],
      "text/plain": [
       "             id                                   title   type  \\\n",
       "571     tm29028                        Salt of This Sea  MOVIE   \n",
       "4417   tm435836               Mere Pyare Prime Minister  MOVIE   \n",
       "5362  tm1191860  Oprah + Viola: A Netflix Special Event  MOVIE   \n",
       "\n",
       "                                            description  release_year  \\\n",
       "571   Born in Brooklyn to Palestinian refugee parent...          2008   \n",
       "4417  A story about four children living in a Mumbai...          2019   \n",
       "5362  In this special event, Oprah Winfrey sits down...          2022   \n",
       "\n",
       "     age_certification  runtime                            genres  \\\n",
       "571                NaN      109  ['drama', 'romance', 'european']   \n",
       "4417               NaN      104                         ['drama']   \n",
       "5362               NaN       48                 ['documentation']   \n",
       "\n",
       "                production_countries  seasons     imdb_id  imdb_score  \\\n",
       "571   ['BE', 'FR', 'ES', 'CH', 'PS']      NaN   tt1090680         6.8   \n",
       "4417                          ['IN']      NaN   tt8207768         6.8   \n",
       "5362                          ['US']      NaN  tt19404044         7.2   \n",
       "\n",
       "      imdb_votes  tmdb_popularity  tmdb_score  \n",
       "571       1235.0            1.738         6.3  \n",
       "4417       646.0            1.988         7.2  \n",
       "5362       319.0            3.035         7.7  "
      ]
     },
     "execution_count": 2,
     "metadata": {},
     "output_type": "execute_result"
    }
   ],
   "source": [
    "tit = pd.read_excel('Titles.xlsx')\n",
    "tit.sample(3)"
   ]
  },
  {
   "cell_type": "code",
   "execution_count": 3,
   "id": "d6fbf790-408c-41c2-a8d7-abd9245f26fc",
   "metadata": {},
   "outputs": [],
   "source": [
    "# только фильмы\n",
    "mov = tit[tit.type==\"MOVIE\"]"
   ]
  },
  {
   "cell_type": "code",
   "execution_count": 4,
   "id": "e43318fb-fc17-464d-b6f1-c5a09fa2070c",
   "metadata": {},
   "outputs": [
    {
     "data": {
      "text/plain": [
       "(3744, 15)"
      ]
     },
     "execution_count": 4,
     "metadata": {},
     "output_type": "execute_result"
    }
   ],
   "source": [
    "mov.shape"
   ]
  },
  {
   "cell_type": "code",
   "execution_count": 5,
   "id": "84eb2cc7-4dcd-445a-a0e5-6deb73feed4d",
   "metadata": {
    "tags": []
   },
   "outputs": [
    {
     "data": {
      "text/html": [
       "<div>\n",
       "<style scoped>\n",
       "    .dataframe tbody tr th:only-of-type {\n",
       "        vertical-align: middle;\n",
       "    }\n",
       "\n",
       "    .dataframe tbody tr th {\n",
       "        vertical-align: top;\n",
       "    }\n",
       "\n",
       "    .dataframe thead th {\n",
       "        text-align: right;\n",
       "    }\n",
       "</style>\n",
       "<table border=\"1\" class=\"dataframe\">\n",
       "  <thead>\n",
       "    <tr style=\"text-align: right;\">\n",
       "      <th></th>\n",
       "      <th>release_year</th>\n",
       "      <th>runtime</th>\n",
       "      <th>seasons</th>\n",
       "      <th>imdb_score</th>\n",
       "      <th>imdb_votes</th>\n",
       "      <th>tmdb_popularity</th>\n",
       "      <th>tmdb_score</th>\n",
       "    </tr>\n",
       "  </thead>\n",
       "  <tbody>\n",
       "    <tr>\n",
       "      <th>count</th>\n",
       "      <td>3744.000000</td>\n",
       "      <td>3744.000000</td>\n",
       "      <td>0.0</td>\n",
       "      <td>3429.000000</td>\n",
       "      <td>3.413000e+03</td>\n",
       "      <td>3682.000000</td>\n",
       "      <td>3549.000000</td>\n",
       "    </tr>\n",
       "    <tr>\n",
       "      <th>mean</th>\n",
       "      <td>2015.870994</td>\n",
       "      <td>98.213675</td>\n",
       "      <td>NaN</td>\n",
       "      <td>6.246748</td>\n",
       "      <td>2.690938e+04</td>\n",
       "      <td>20.314546</td>\n",
       "      <td>6.464012</td>\n",
       "    </tr>\n",
       "    <tr>\n",
       "      <th>std</th>\n",
       "      <td>7.622202</td>\n",
       "      <td>30.640640</td>\n",
       "      <td>NaN</td>\n",
       "      <td>1.127486</td>\n",
       "      <td>1.068378e+05</td>\n",
       "      <td>78.066405</td>\n",
       "      <td>1.043817</td>\n",
       "    </tr>\n",
       "    <tr>\n",
       "      <th>min</th>\n",
       "      <td>1954.000000</td>\n",
       "      <td>2.000000</td>\n",
       "      <td>NaN</td>\n",
       "      <td>1.500000</td>\n",
       "      <td>5.000000e+00</td>\n",
       "      <td>0.009442</td>\n",
       "      <td>1.000000</td>\n",
       "    </tr>\n",
       "    <tr>\n",
       "      <th>25%</th>\n",
       "      <td>2015.000000</td>\n",
       "      <td>85.000000</td>\n",
       "      <td>NaN</td>\n",
       "      <td>5.600000</td>\n",
       "      <td>5.600000e+02</td>\n",
       "      <td>2.509250</td>\n",
       "      <td>5.900000</td>\n",
       "    </tr>\n",
       "    <tr>\n",
       "      <th>50%</th>\n",
       "      <td>2018.000000</td>\n",
       "      <td>98.000000</td>\n",
       "      <td>NaN</td>\n",
       "      <td>6.400000</td>\n",
       "      <td>2.591000e+03</td>\n",
       "      <td>5.862000</td>\n",
       "      <td>6.500000</td>\n",
       "    </tr>\n",
       "    <tr>\n",
       "      <th>75%</th>\n",
       "      <td>2020.000000</td>\n",
       "      <td>115.000000</td>\n",
       "      <td>NaN</td>\n",
       "      <td>7.100000</td>\n",
       "      <td>1.154500e+04</td>\n",
       "      <td>14.657250</td>\n",
       "      <td>7.100000</td>\n",
       "    </tr>\n",
       "    <tr>\n",
       "      <th>max</th>\n",
       "      <td>2022.000000</td>\n",
       "      <td>240.000000</td>\n",
       "      <td>NaN</td>\n",
       "      <td>9.100000</td>\n",
       "      <td>2.294231e+06</td>\n",
       "      <td>2274.044000</td>\n",
       "      <td>10.000000</td>\n",
       "    </tr>\n",
       "  </tbody>\n",
       "</table>\n",
       "</div>"
      ],
      "text/plain": [
       "       release_year      runtime  seasons   imdb_score    imdb_votes  \\\n",
       "count   3744.000000  3744.000000      0.0  3429.000000  3.413000e+03   \n",
       "mean    2015.870994    98.213675      NaN     6.246748  2.690938e+04   \n",
       "std        7.622202    30.640640      NaN     1.127486  1.068378e+05   \n",
       "min     1954.000000     2.000000      NaN     1.500000  5.000000e+00   \n",
       "25%     2015.000000    85.000000      NaN     5.600000  5.600000e+02   \n",
       "50%     2018.000000    98.000000      NaN     6.400000  2.591000e+03   \n",
       "75%     2020.000000   115.000000      NaN     7.100000  1.154500e+04   \n",
       "max     2022.000000   240.000000      NaN     9.100000  2.294231e+06   \n",
       "\n",
       "       tmdb_popularity   tmdb_score  \n",
       "count      3682.000000  3549.000000  \n",
       "mean         20.314546     6.464012  \n",
       "std          78.066405     1.043817  \n",
       "min           0.009442     1.000000  \n",
       "25%           2.509250     5.900000  \n",
       "50%           5.862000     6.500000  \n",
       "75%          14.657250     7.100000  \n",
       "max        2274.044000    10.000000  "
      ]
     },
     "execution_count": 5,
     "metadata": {},
     "output_type": "execute_result"
    }
   ],
   "source": [
    "mov.describe()"
   ]
  },
  {
   "cell_type": "code",
   "execution_count": 6,
   "id": "4bc93880-f3d5-4378-99bb-4f2c031d3aa4",
   "metadata": {},
   "outputs": [],
   "source": [
    "# колонка сезоны нужна для шоу, удаляем\n",
    "mov = mov.drop('seasons', axis=1)"
   ]
  },
  {
   "cell_type": "code",
   "execution_count": 7,
   "id": "26ca1ca3-ffd7-4b99-9121-693f88391974",
   "metadata": {
    "tags": []
   },
   "outputs": [
    {
     "data": {
      "text/plain": [
       "id                         0\n",
       "title                      0\n",
       "type                       0\n",
       "description                1\n",
       "release_year               0\n",
       "age_certification       1997\n",
       "runtime                    0\n",
       "genres                     0\n",
       "production_countries       0\n",
       "imdb_id                    0\n",
       "imdb_score                 0\n",
       "imdb_votes                 0\n",
       "tmdb_popularity            0\n",
       "tmdb_score                 0\n",
       "dtype: int64"
      ]
     },
     "execution_count": 7,
     "metadata": {},
     "output_type": "execute_result"
    }
   ],
   "source": [
    "mov = mov.dropna(subset=['imdb_id','imdb_score','imdb_votes','tmdb_popularity','tmdb_score']).copy()\n",
    "mov.isnull().sum()"
   ]
  },
  {
   "cell_type": "code",
   "execution_count": 8,
   "id": "385febe9-4fa5-483e-9bc6-16e9bd81e029",
   "metadata": {
    "tags": []
   },
   "outputs": [
    {
     "data": {
      "text/plain": [
       "<AxesSubplot:>"
      ]
     },
     "execution_count": 8,
     "metadata": {},
     "output_type": "execute_result"
    },
    {
     "data": {
      "image/png": "[encoded data removed]",
      "text/plain": [
       "<Figure size 432x288 with 2 Axes>"
      ]
     },
     "metadata": {
      "needs_background": "light"
     },
     "output_type": "display_data"
    }
   ],
   "source": [
    "sns.heatmap(data=mov.corr(),cbar=True, annot=True, square=True, fmt= \".2f\", annot_kws={\"size\":10,})"
   ]
  },
  {
   "cell_type": "markdown",
   "id": "efedc057-d9f3-4d25-b769-bf41ad78c481",
   "metadata": {
    "tags": []
   },
   "source": [
    "Есть незначительная отрицательная корреляция *runtime* - *release year*. \n",
    "\n",
    "Новые фильмы становятся длиннее.\n",
    "\n",
    "\n",
    "В рейтинге TMDB популярность фильма не коррелирует с его рейтингом.\n",
    "\n",
    "\n",
    "Рейтинги TMDB и IMDB имеют среднюю корреляцию."
   ]
  },
  {
   "cell_type": "markdown",
   "id": "a391775c-f368-4d9d-96cf-43ef6d8b1b31",
   "metadata": {},
   "source": [
    "### Наиболее часто встречающиеся слова в названиях и описаниях фильмов"
   ]
  },
  {
   "cell_type": "code",
   "execution_count": 9,
   "id": "79ab78d7-c3e7-48c0-a8e2-b73aa2f7ce7d",
   "metadata": {},
   "outputs": [],
   "source": [
    "import re\n",
    "REPLACE_BY_SPACE_RE = re.compile('[/(){}\\[\\]\\|@,;]') \n",
    "BAD_SYMBOLS_RE = re.compile('[^0-9a-z #+_]')\n",
    "from nltk.corpus import stopwords\n",
    "stop = stopwords.words('english')\n",
    "\n",
    "def text_prepare(row):\n",
    "    row = str(row).lower()\n",
    "    row = re.sub(REPLACE_BY_SPACE_RE, ' ', row)\n",
    "    row = re.sub(BAD_SYMBOLS_RE, '', row)\n",
    "    return row"
   ]
  },
  {
   "cell_type": "code",
   "execution_count": 10,
   "id": "358363c9-91f2-4251-b28d-067a3bd6501d",
   "metadata": {},
   "outputs": [],
   "source": [
    "mov['descr_words'] = mov['description'].apply(text_prepare).apply(lambda x: ' '.join([word for word in x.split() if word not in (stop)]))"
   ]
  },
  {
   "cell_type": "code",
   "execution_count": 11,
   "id": "4bf9bcf3-7e03-408e-914e-d3efd3faaba8",
   "metadata": {},
   "outputs": [
    {
     "data": {
      "text/plain": [
       "3283    nba lockout sports agent ray burke presents ro...\n",
       "3959    medieval english knight magically transported ...\n",
       "Name: descr_words, dtype: object"
      ]
     },
     "execution_count": 11,
     "metadata": {},
     "output_type": "execute_result"
    }
   ],
   "source": [
    "mov['descr_words'].sample(2)"
   ]
  },
  {
   "cell_type": "code",
   "execution_count": 12,
   "id": "58e081f4-722f-415e-84ab-490ad98445bd",
   "metadata": {},
   "outputs": [
    {
     "data": {
      "text/plain": [
       "life      525\n",
       "love      368\n",
       "one       353\n",
       "family    348\n",
       "young     337\n",
       "dtype: int64"
      ]
     },
     "execution_count": 12,
     "metadata": {},
     "output_type": "execute_result"
    }
   ],
   "source": [
    "pd.Series(' '.join(mov['descr_words']).lower().split()).value_counts().head(5)"
   ]
  },
  {
   "cell_type": "code",
   "execution_count": 13,
   "id": "ec30887c-331f-46b2-8558-96db2d8d8d8d",
   "metadata": {},
   "outputs": [],
   "source": [
    "mov['words_title'] = mov['title'].apply(text_prepare).apply(lambda x: ' '.join([word for word in x.split() if word not in (stop)]))"
   ]
  },
  {
   "cell_type": "code",
   "execution_count": 14,
   "id": "692db8af-b806-4f79-921c-d6b6d135a09b",
   "metadata": {},
   "outputs": [
    {
     "data": {
      "text/plain": [
       "love         68\n",
       "2            61\n",
       "christmas    55\n",
       "movie        45\n",
       "man          33\n",
       "dtype: int64"
      ]
     },
     "execution_count": 14,
     "metadata": {},
     "output_type": "execute_result"
    }
   ],
   "source": [
    "pd.Series(' '.join(mov['words_title']).lower().split()).value_counts().head(5)"
   ]
  },
  {
   "cell_type": "markdown",
   "id": "a82523b1-477b-4d78-a13f-a1d867100e7a",
   "metadata": {},
   "source": [
    "### Количество фильмов по годам выпуска"
   ]
  },
  {
   "cell_type": "code",
   "execution_count": 15,
   "id": "b0826104-c351-4aa0-8c91-b37df3240717",
   "metadata": {
    "tags": []
   },
   "outputs": [
    {
     "data": {
      "image/png": "[encoded data removed]",
      "text/plain": [
       "<Figure size 504x360 with 1 Axes>"
      ]
     },
     "metadata": {
      "needs_background": "light"
     },
     "output_type": "display_data"
    }
   ],
   "source": [
    "mov_yearly = pd.DataFrame(mov.release_year.value_counts())\n",
    "plt.figure(figsize=(7, 5))\n",
    "sns.set(context='notebook',style='darkgrid',palette='deep', font='sans-serif', font_scale=1.3, color_codes=False, rc=None)\n",
    "sns.lineplot(data=mov_yearly, marker='o', markerfacecolor='grey')\n",
    "plt.show()"
   ]
  },
  {
   "cell_type": "code",
   "execution_count": 16,
   "id": "f501b34c-7480-45de-900f-e7dfea4f7a61",
   "metadata": {},
   "outputs": [
    {
     "data": {
      "text/plain": [
       "2019    440\n",
       "2018    431\n",
       "2021    396\n",
       "2020    396\n",
       "Name: release_year, dtype: int64"
      ]
     },
     "execution_count": 16,
     "metadata": {},
     "output_type": "execute_result"
    }
   ],
   "source": [
    "# Наибольшее количество фильмов в датасете выпущены в 2019 году\n",
    "mov.release_year.value_counts().sort_values(ascending=False).head(4)"
   ]
  },
  {
   "cell_type": "markdown",
   "id": "8976dd00-1516-43bd-ab9c-eee4d70e89cc",
   "metadata": {},
   "source": [
    "#### Процент самых популярных и обсуждаемых фильмов в IMDB и в TMDB среди всех выпущенных в этом году"
   ]
  },
  {
   "cell_type": "code",
   "execution_count": 17,
   "id": "73033403-13df-461a-bc76-d1ac4aea9d6e",
   "metadata": {},
   "outputs": [
    {
     "name": "stdout",
     "output_type": "stream",
     "text": [
      "TMDB50S = 6.5\n",
      "TMDB75S = 7.1\n",
      "IMDB50S = 6.4\n",
      "IMDB75S = 7.1\n",
      "TMDB50 = 6.607\n",
      "TMDB75 = 15.604\n",
      "IMDB50 = 2854.0\n",
      "IMDB75 = 12446.5\n"
     ]
    }
   ],
   "source": [
    "IMDB75 = mov.imdb_votes.quantile(0.75)\n",
    "TMDB75 = mov.tmdb_popularity.quantile(0.75)\n",
    "\n",
    "IMDB75S = mov.imdb_score.quantile(0.75)\n",
    "TMDB75S = mov.tmdb_score.quantile(0.75)\n",
    "\n",
    "IMDB50 = mov.imdb_votes.quantile(0.50)\n",
    "TMDB50 = mov.tmdb_popularity.quantile(0.50)\n",
    "\n",
    "IMDB50S = mov.imdb_score.quantile(0.50)\n",
    "TMDB50S = mov.tmdb_score.quantile(0.50)\n",
    "\n",
    "print(f'TMDB50S = {TMDB50S}',\n",
    "      f'TMDB75S = {TMDB75S}',\n",
    "      f'IMDB50S = {IMDB50S}',\n",
    "      f'IMDB75S = {IMDB75S}', \n",
    "      f'TMDB50 = {TMDB50}', \n",
    "      f'TMDB75 = {TMDB75}',\n",
    "      f'IMDB50 = {IMDB50}',\n",
    "      f'IMDB75 = {IMDB75}',sep='\\n')"
   ]
  },
  {
   "cell_type": "code",
   "execution_count": 18,
   "id": "f623d6c1-1053-4ba9-8b61-cbf62086172a",
   "metadata": {
    "tags": []
   },
   "outputs": [
    {
     "data": {
      "image/png": "[encoded data removed]",
      "text/plain": [
       "<Figure size 504x360 with 1 Axes>"
      ]
     },
     "metadata": {},
     "output_type": "display_data"
    }
   ],
   "source": [
    "df75 = pd.DataFrame(mov.query('(imdb_votes > @IMDB75) & (imdb_score > @IMDB75S)').release_year.value_counts())\n",
    "df75 = df75.join(mov_yearly, how='left', lsuffix='_50', rsuffix='').copy()\n",
    "df75['popularity'] = 'best'\n",
    "\n",
    "df50 = pd.DataFrame(mov.query('(imdb_votes > @IMDB50) & (imdb_score > @IMDB50S)').release_year.value_counts())\n",
    "df50 = df50.join(mov_yearly, how='left', lsuffix='_50', rsuffix='').copy()\n",
    "df50['popularity'] = '> avg'\n",
    "\n",
    "df = pd.concat([df50, df75]).reset_index()\n",
    "df.rename(columns={'index':'year','release_year':'movies'}, inplace=True)\n",
    "df['imdb, %'] = (df['release_year_50']/ df['movies']*100).round(2)\n",
    "sns.set(context='notebook',style='darkgrid',palette='deep', font='sans-serif', font_scale=1.3, color_codes=False, rc=None)\n",
    "plt.figure(figsize=(7, 5))\n",
    "sns.lineplot(data = df.loc[df.year > 1992 ], x = 'year', y='imdb, %', hue = 'popularity', marker='o', markerfacecolor='grey')\n",
    "plt.show()"
   ]
  },
  {
   "cell_type": "code",
   "execution_count": 19,
   "id": "4b0b8bdd-9d05-40d0-8823-95fe6d8c47d4",
   "metadata": {
    "tags": []
   },
   "outputs": [
    {
     "data": {
      "image/png": "[encoded data removed]",
      "text/plain": [
       "<Figure size 504x360 with 1 Axes>"
      ]
     },
     "metadata": {},
     "output_type": "display_data"
    }
   ],
   "source": [
    "df75 = pd.DataFrame(mov.query('(tmdb_popularity > @TMDB75) & (tmdb_score > @TMDB75S)').release_year.value_counts())\n",
    "df75 = df75.join(mov_yearly, how='left', lsuffix='_50', rsuffix='').copy()\n",
    "df75['rating'] = 'best'\n",
    "\n",
    "\n",
    "df50 = pd.DataFrame(mov.query('(tmdb_popularity > @TMDB50) & (tmdb_score > @TMDB50S)').release_year.value_counts())\n",
    "df50 = df50.join(mov_yearly, how='left', lsuffix='_50', rsuffix='').copy()\n",
    "df50['rating'] = '> avg'\n",
    "\n",
    "df = pd.concat([df50, df75]).reset_index()\n",
    "df.rename(columns={'index':'year','release_year':'movies'}, inplace=True)\n",
    "df['tmdb, %'] = (df['release_year_50']/ df['movies']*100).round(2)\n",
    "sns.set(context='notebook',style='darkgrid',palette='deep', font='sans-serif', font_scale=1.3, color_codes=False, rc=None)\n",
    "plt.figure(figsize=(7, 5))\n",
    "sns.lineplot(data = df.loc[df.year > 1992 ], x = 'year', y='tmdb, %', hue = 'rating', marker='o', markerfacecolor='grey')\n",
    "plt.show()"
   ]
  },
  {
   "cell_type": "code",
   "execution_count": 20,
   "id": "004935d6-b369-4f83-ac71-0f854b2a2849",
   "metadata": {
    "tags": []
   },
   "outputs": [
    {
     "data": {
      "image/png": "[encoded data removed]",
      "text/plain": [
       "<Figure size 504x360 with 1 Axes>"
      ]
     },
     "metadata": {},
     "output_type": "display_data"
    }
   ],
   "source": [
    "df75 = pd.DataFrame(mov.query('(tmdb_popularity > @TMDB75) & (tmdb_score > @TMDB75S)&(imdb_votes > @IMDB75) & (imdb_score > @IMDB75S)').release_year.value_counts())\n",
    "df75 = df75.join(mov_yearly, how='left', lsuffix='_50', rsuffix='').copy()\n",
    "df75['rating'] = 'best'\n",
    "\n",
    "\n",
    "df50 = pd.DataFrame(mov.query('(tmdb_popularity > @TMDB50) & (tmdb_score > @TMDB50S)&(imdb_votes > @IMDB50) & (imdb_score > @IMDB50S)').release_year.value_counts())\n",
    "df50 = df50.join(mov_yearly, how='left', lsuffix='_50', rsuffix='').copy()\n",
    "df50['rating'] = '> avg'\n",
    "\n",
    "df = pd.concat([df50, df75]).reset_index()\n",
    "df.rename(columns={'index':'year','release_year':'movies'}, inplace=True)\n",
    "df['imdb_tmdb, %'] = (df['release_year_50']/ df['movies']*100).round(2)\n",
    "sns.set(context='notebook',style='darkgrid',palette='deep', font='sans-serif', font_scale=1.3, color_codes=False, rc=None)\n",
    "plt.figure(figsize=(7, 5))\n",
    "sns.lineplot(data = df.loc[df.year > 1992 ], x = 'year', y='imdb_tmdb, %', hue = 'rating', marker='o', markerfacecolor='grey')\n",
    "plt.show()"
   ]
  },
  {
   "cell_type": "markdown",
   "id": "a7ddd705-2394-425a-867e-d2d2b4f5f89c",
   "metadata": {},
   "source": [
    "### Сертификация по возрасту"
   ]
  },
  {
   "cell_type": "code",
   "execution_count": 21,
   "id": "82701c1c-8e23-4c8d-819f-b7f15d2b1974",
   "metadata": {},
   "outputs": [
    {
     "data": {
      "text/plain": [
       "R        526\n",
       "PG-13    425\n",
       "PG       220\n",
       "G         88\n",
       "NC-17     15\n",
       "Name: age_certification, dtype: int64"
      ]
     },
     "execution_count": 21,
     "metadata": {},
     "output_type": "execute_result"
    }
   ],
   "source": [
    "mov.age_certification.value_counts()"
   ]
  },
  {
   "cell_type": "code",
   "execution_count": 22,
   "id": "3b9772c4-57c5-47e6-850c-c66c655c0173",
   "metadata": {},
   "outputs": [],
   "source": [
    "df75 = mov.query('(imdb_votes > @IMDB75) & (tmdb_popularity > @TMDB75)')\n",
    "df50 = mov.query('(imdb_votes > @IMDB50) & (tmdb_popularity > @TMDB50)')"
   ]
  },
  {
   "cell_type": "code",
   "execution_count": 23,
   "id": "1a51b047-f285-4670-bc35-4b44f44a6800",
   "metadata": {},
   "outputs": [
    {
     "name": "stdout",
     "output_type": "stream",
     "text": [
      "(461, 16) (1258, 16)\n"
     ]
    }
   ],
   "source": [
    "print(df75.shape, df50.shape)"
   ]
  },
  {
   "cell_type": "code",
   "execution_count": 24,
   "id": "a54d091b-a78c-4133-a4ee-e4a5b1295a41",
   "metadata": {},
   "outputs": [
    {
     "data": {
      "text/html": [
       "<div>\n",
       "<style scoped>\n",
       "    .dataframe tbody tr th:only-of-type {\n",
       "        vertical-align: middle;\n",
       "    }\n",
       "\n",
       "    .dataframe tbody tr th {\n",
       "        vertical-align: top;\n",
       "    }\n",
       "\n",
       "    .dataframe thead th {\n",
       "        text-align: right;\n",
       "    }\n",
       "</style>\n",
       "<table border=\"1\" class=\"dataframe\">\n",
       "  <thead>\n",
       "    <tr style=\"text-align: right;\">\n",
       "      <th></th>\n",
       "      <th>age_certification_75</th>\n",
       "      <th>age_certification_50</th>\n",
       "      <th>age_certification</th>\n",
       "    </tr>\n",
       "  </thead>\n",
       "  <tbody>\n",
       "    <tr>\n",
       "      <th>R</th>\n",
       "      <td>207</td>\n",
       "      <td>408</td>\n",
       "      <td>526</td>\n",
       "    </tr>\n",
       "    <tr>\n",
       "      <th>PG-13</th>\n",
       "      <td>126</td>\n",
       "      <td>265</td>\n",
       "      <td>425</td>\n",
       "    </tr>\n",
       "    <tr>\n",
       "      <th>PG</th>\n",
       "      <td>53</td>\n",
       "      <td>114</td>\n",
       "      <td>220</td>\n",
       "    </tr>\n",
       "    <tr>\n",
       "      <th>NC-17</th>\n",
       "      <td>4</td>\n",
       "      <td>11</td>\n",
       "      <td>15</td>\n",
       "    </tr>\n",
       "    <tr>\n",
       "      <th>G</th>\n",
       "      <td>3</td>\n",
       "      <td>16</td>\n",
       "      <td>88</td>\n",
       "    </tr>\n",
       "  </tbody>\n",
       "</table>\n",
       "</div>"
      ],
      "text/plain": [
       "       age_certification_75  age_certification_50  age_certification\n",
       "R                       207                   408                526\n",
       "PG-13                   126                   265                425\n",
       "PG                       53                   114                220\n",
       "NC-17                     4                    11                 15\n",
       "G                         3                    16                 88"
      ]
     },
     "execution_count": 24,
     "metadata": {},
     "output_type": "execute_result"
    }
   ],
   "source": [
    "pd.DataFrame(df75.age_certification.value_counts())\\\n",
    ".join(pd.DataFrame(df50.age_certification.value_counts()),how='left', lsuffix='_75', rsuffix='_50')\\\n",
    ".join(mov.age_certification.value_counts(), how='left')"
   ]
  },
  {
   "cell_type": "markdown",
   "id": "a932262d-082d-4630-8875-e53b6c7a350f",
   "metadata": {},
   "source": [
    "Сертификация по возрасту не влияет на популярность фильма"
   ]
  },
  {
   "cell_type": "code",
   "execution_count": 25,
   "id": "30159905-b3b8-43bb-8721-1aac8619ed96",
   "metadata": {},
   "outputs": [],
   "source": [
    "df75s = mov.query('(imdb_score > @IMDB75S) & (tmdb_score > @TMDB75S)')\n",
    "df50s = mov.query('(imdb_score > @IMDB50S) & (tmdb_score > @TMDB50S)')"
   ]
  },
  {
   "cell_type": "code",
   "execution_count": 26,
   "id": "fe9d0aa2-b679-4ce8-b33c-bfceae52c928",
   "metadata": {},
   "outputs": [
    {
     "data": {
      "text/html": [
       "<div>\n",
       "<style scoped>\n",
       "    .dataframe tbody tr th:only-of-type {\n",
       "        vertical-align: middle;\n",
       "    }\n",
       "\n",
       "    .dataframe tbody tr th {\n",
       "        vertical-align: top;\n",
       "    }\n",
       "\n",
       "    .dataframe thead th {\n",
       "        text-align: right;\n",
       "    }\n",
       "</style>\n",
       "<table border=\"1\" class=\"dataframe\">\n",
       "  <thead>\n",
       "    <tr style=\"text-align: right;\">\n",
       "      <th></th>\n",
       "      <th>age_certification_75</th>\n",
       "      <th>age_certification_50</th>\n",
       "      <th>age_certification</th>\n",
       "    </tr>\n",
       "  </thead>\n",
       "  <tbody>\n",
       "    <tr>\n",
       "      <th>R</th>\n",
       "      <td>95</td>\n",
       "      <td>212</td>\n",
       "      <td>526</td>\n",
       "    </tr>\n",
       "    <tr>\n",
       "      <th>PG-13</th>\n",
       "      <td>76</td>\n",
       "      <td>198</td>\n",
       "      <td>425</td>\n",
       "    </tr>\n",
       "    <tr>\n",
       "      <th>PG</th>\n",
       "      <td>34</td>\n",
       "      <td>87</td>\n",
       "      <td>220</td>\n",
       "    </tr>\n",
       "    <tr>\n",
       "      <th>G</th>\n",
       "      <td>14</td>\n",
       "      <td>29</td>\n",
       "      <td>88</td>\n",
       "    </tr>\n",
       "    <tr>\n",
       "      <th>NC-17</th>\n",
       "      <td>3</td>\n",
       "      <td>6</td>\n",
       "      <td>15</td>\n",
       "    </tr>\n",
       "  </tbody>\n",
       "</table>\n",
       "</div>"
      ],
      "text/plain": [
       "       age_certification_75  age_certification_50  age_certification\n",
       "R                        95                   212                526\n",
       "PG-13                    76                   198                425\n",
       "PG                       34                    87                220\n",
       "G                        14                    29                 88\n",
       "NC-17                     3                     6                 15"
      ]
     },
     "execution_count": 26,
     "metadata": {},
     "output_type": "execute_result"
    }
   ],
   "source": [
    "pd.DataFrame(df75s.age_certification.value_counts())\\\n",
    ".join(pd.DataFrame(df50s.age_certification.value_counts()),how='left', lsuffix='_75', rsuffix='_50')\\\n",
    ".join(mov.age_certification.value_counts(), how='left')"
   ]
  },
  {
   "cell_type": "markdown",
   "id": "4c65d2f2-d7f7-428c-accf-6d8848cad56e",
   "metadata": {},
   "source": [
    "Сертификация по возрасту не влияет на рейтинг фильма"
   ]
  },
  {
   "cell_type": "markdown",
   "id": "e1bb4ac2-23d3-42c7-9db8-17e1abe330dc",
   "metadata": {},
   "source": [
    "### Продолжительность фильма"
   ]
  },
  {
   "cell_type": "code",
   "execution_count": 27,
   "id": "774790fa-8f95-488c-bad2-975a6f24823a",
   "metadata": {},
   "outputs": [
    {
     "data": {
      "image/png": "[encoded data removed]",
      "text/plain": [
       "<Figure size 432x288 with 1 Axes>"
      ]
     },
     "metadata": {},
     "output_type": "display_data"
    }
   ],
   "source": [
    "ax = sns.histplot(data=mov, x=\"runtime\", bins=20)\n",
    "ax.set(xlabel='runtime', ylabel='')\n",
    "plt.show()"
   ]
  },
  {
   "cell_type": "code",
   "execution_count": 28,
   "id": "4b511a72-f035-4ee8-a52d-bee02de1d552",
   "metadata": {},
   "outputs": [],
   "source": [
    "mov['t75'] = (mov.tmdb_score > TMDB75S) & (mov.tmdb_popularity > TMDB75)"
   ]
  },
  {
   "cell_type": "code",
   "execution_count": 29,
   "id": "c11c56b9-8958-4162-804f-edaad9dea17e",
   "metadata": {},
   "outputs": [],
   "source": [
    "mov['t50'] = (mov.tmdb_score > TMDB50S) & (mov.tmdb_popularity > TMDB50)"
   ]
  },
  {
   "cell_type": "code",
   "execution_count": 30,
   "id": "f2357dab-cb00-4afd-aa9d-ec0524afedbd",
   "metadata": {},
   "outputs": [],
   "source": [
    "mov['i75'] = (mov.imdb_score > IMDB75S) & (mov.imdb_votes > IMDB75)"
   ]
  },
  {
   "cell_type": "code",
   "execution_count": 31,
   "id": "ee9f9d7d-fd5e-4b50-86b9-34bd05c51e3a",
   "metadata": {},
   "outputs": [],
   "source": [
    "mov['i50'] = (mov.imdb_score > IMDB50S) & (mov.imdb_votes > IMDB50)"
   ]
  },
  {
   "cell_type": "code",
   "execution_count": 32,
   "id": "81849442-8023-4e89-b0eb-c82c75d55c52",
   "metadata": {},
   "outputs": [
    {
     "data": {
      "image/png": "[encoded data removed]",
      "text/plain": [
       "<Figure size 1080x360 with 4 Axes>"
      ]
     },
     "metadata": {},
     "output_type": "display_data"
    }
   ],
   "source": [
    "fig, axes = plt.subplots(1, 4, figsize=(15, 5), sharey=True)\n",
    "\n",
    "sns.kdeplot(ax=axes[0], data=mov, hue = 't75', x=\"runtime\")\n",
    "sns.kdeplot(ax=axes[1], data=mov, hue = 't50', x=\"runtime\")\n",
    "sns.kdeplot(ax=axes[2], data=mov, hue = 'i75', x=\"runtime\")\n",
    "sns.kdeplot(ax=axes[3], data=mov, hue = 'i50', x=\"runtime\")\n",
    "plt.show()"
   ]
  },
  {
   "cell_type": "code",
   "execution_count": 33,
   "id": "990c7d5f-ccb6-43b9-a94b-a4ee61b861ee",
   "metadata": {},
   "outputs": [
    {
     "data": {
      "text/plain": [
       "<AxesSubplot:xlabel='runtime', ylabel='Density'>"
      ]
     },
     "execution_count": 33,
     "metadata": {},
     "output_type": "execute_result"
    },
    {
     "data": {
      "image/png": "[encoded data removed]",
      "text/plain": [
       "<Figure size 432x288 with 1 Axes>"
      ]
     },
     "metadata": {},
     "output_type": "display_data"
    }
   ],
   "source": [
    "sns.kdeplot(data=mov, hue = 'i75', x=\"runtime\")"
   ]
  },
  {
   "cell_type": "code",
   "execution_count": 34,
   "id": "999a4104-9bb7-4114-9845-5bf46da15f8a",
   "metadata": {},
   "outputs": [
    {
     "data": {
      "text/plain": [
       "<AxesSubplot:xlabel='tmdb_popularity', ylabel='tmdb_score'>"
      ]
     },
     "execution_count": 34,
     "metadata": {},
     "output_type": "execute_result"
    },
    {
     "data": {
      "image/png": "[encoded data removed]",
      "text/plain": [
       "<Figure size 432x288 with 1 Axes>"
      ]
     },
     "metadata": {},
     "output_type": "display_data"
    }
   ],
   "source": [
    "sns.scatterplot(data = mov, x = \"tmdb_popularity\", y = \"tmdb_score\")"
   ]
  },
  {
   "cell_type": "code",
   "execution_count": 35,
   "id": "498bd371-d3ca-47d2-a4e7-4c78361bdb95",
   "metadata": {},
   "outputs": [
    {
     "data": {
      "text/plain": [
       "<AxesSubplot:xlabel='imdb_votes', ylabel='imdb_score'>"
      ]
     },
     "execution_count": 35,
     "metadata": {},
     "output_type": "execute_result"
    },
    {
     "data": {
      "image/png": "[encoded data removed]",
      "text/plain": [
       "<Figure size 432x288 with 1 Axes>"
      ]
     },
     "metadata": {},
     "output_type": "display_data"
    }
   ],
   "source": [
    "sns.scatterplot(data = mov[mov.imdb_votes<1e4], x = \"imdb_votes\", y = \"imdb_score\")"
   ]
  },
  {
   "cell_type": "markdown",
   "id": "86705a08-e7b8-4bdf-8ae3-956711d05be4",
   "metadata": {},
   "source": [
    "### Какие жанры пользуются наибольшей популярностью"
   ]
  },
  {
   "cell_type": "code",
   "execution_count": 36,
   "id": "a4d9c636-e66a-480b-9201-958d0273f320",
   "metadata": {},
   "outputs": [],
   "source": [
    "def transform_to_list(row):    \n",
    "    return row[1:-1].replace(\"'\",\"\").replace(\" \",\"\").split(\",\")"
   ]
  },
  {
   "cell_type": "code",
   "execution_count": 37,
   "id": "3c744838-1e63-4204-ab24-aca325c0092a",
   "metadata": {},
   "outputs": [],
   "source": [
    "mov['genres'] = mov['genres'].apply(lambda x: x[1:-1].replace(\"'\",\"\").replace(\" \",\"\").split(\",\"))"
   ]
  },
  {
   "cell_type": "code",
   "execution_count": 38,
   "id": "9c8245ca-317c-492d-8d94-b842aeef6c50",
   "metadata": {
    "tags": []
   },
   "outputs": [
    {
     "data": {
      "text/html": [
       "<div>\n",
       "<style scoped>\n",
       "    .dataframe tbody tr th:only-of-type {\n",
       "        vertical-align: middle;\n",
       "    }\n",
       "\n",
       "    .dataframe tbody tr th {\n",
       "        vertical-align: top;\n",
       "    }\n",
       "\n",
       "    .dataframe thead th {\n",
       "        text-align: right;\n",
       "    }\n",
       "</style>\n",
       "<table border=\"1\" class=\"dataframe\">\n",
       "  <thead>\n",
       "    <tr style=\"text-align: right;\">\n",
       "      <th></th>\n",
       "      <th>id</th>\n",
       "      <th>title</th>\n",
       "      <th>type</th>\n",
       "      <th>description</th>\n",
       "      <th>release_year</th>\n",
       "      <th>age_certification</th>\n",
       "      <th>runtime</th>\n",
       "      <th>genres</th>\n",
       "      <th>production_countries</th>\n",
       "      <th>imdb_id</th>\n",
       "      <th>imdb_score</th>\n",
       "      <th>imdb_votes</th>\n",
       "      <th>tmdb_popularity</th>\n",
       "      <th>tmdb_score</th>\n",
       "      <th>descr_words</th>\n",
       "      <th>words_title</th>\n",
       "      <th>t75</th>\n",
       "      <th>t50</th>\n",
       "      <th>i75</th>\n",
       "      <th>i50</th>\n",
       "    </tr>\n",
       "  </thead>\n",
       "  <tbody>\n",
       "    <tr>\n",
       "      <th>2061</th>\n",
       "      <td>tm352774</td>\n",
       "      <td>Voyeur</td>\n",
       "      <td>MOVIE</td>\n",
       "      <td>Journalism icon Gay Talese reports on Gerald F...</td>\n",
       "      <td>2017</td>\n",
       "      <td>R</td>\n",
       "      <td>95</td>\n",
       "      <td>documentation</td>\n",
       "      <td>['US']</td>\n",
       "      <td>tt3465276</td>\n",
       "      <td>6.1</td>\n",
       "      <td>6097.0</td>\n",
       "      <td>9.593</td>\n",
       "      <td>6.0</td>\n",
       "      <td>journalism icon gay talese reports gerald foos...</td>\n",
       "      <td>voyeur</td>\n",
       "      <td>False</td>\n",
       "      <td>False</td>\n",
       "      <td>False</td>\n",
       "      <td>False</td>\n",
       "    </tr>\n",
       "    <tr>\n",
       "      <th>2297</th>\n",
       "      <td>tm299764</td>\n",
       "      <td>The Motive</td>\n",
       "      <td>MOVIE</td>\n",
       "      <td>ГЃlvaro, a man obsessed with the idea of writi...</td>\n",
       "      <td>2017</td>\n",
       "      <td>NaN</td>\n",
       "      <td>104</td>\n",
       "      <td>drama</td>\n",
       "      <td>['ES', 'MX']</td>\n",
       "      <td>tt5451244</td>\n",
       "      <td>6.5</td>\n",
       "      <td>5713.0</td>\n",
       "      <td>6.409</td>\n",
       "      <td>6.2</td>\n",
       "      <td>lvaro man obsessed idea writing brands high li...</td>\n",
       "      <td>motive</td>\n",
       "      <td>False</td>\n",
       "      <td>False</td>\n",
       "      <td>False</td>\n",
       "      <td>True</td>\n",
       "    </tr>\n",
       "    <tr>\n",
       "      <th>5079</th>\n",
       "      <td>tm1161601</td>\n",
       "      <td>Ben &amp; Jody</td>\n",
       "      <td>MOVIE</td>\n",
       "      <td>Two best friends band together with a group of...</td>\n",
       "      <td>2022</td>\n",
       "      <td>NaN</td>\n",
       "      <td>114</td>\n",
       "      <td>action</td>\n",
       "      <td>['ID']</td>\n",
       "      <td>tt13393058</td>\n",
       "      <td>5.4</td>\n",
       "      <td>222.0</td>\n",
       "      <td>5.486</td>\n",
       "      <td>5.7</td>\n",
       "      <td>two best friends band together group villages ...</td>\n",
       "      <td>ben jody</td>\n",
       "      <td>False</td>\n",
       "      <td>False</td>\n",
       "      <td>False</td>\n",
       "      <td>False</td>\n",
       "    </tr>\n",
       "  </tbody>\n",
       "</table>\n",
       "</div>"
      ],
      "text/plain": [
       "             id       title   type  \\\n",
       "2061   tm352774      Voyeur  MOVIE   \n",
       "2297   tm299764  The Motive  MOVIE   \n",
       "5079  tm1161601  Ben & Jody  MOVIE   \n",
       "\n",
       "                                            description  release_year  \\\n",
       "2061  Journalism icon Gay Talese reports on Gerald F...          2017   \n",
       "2297  ГЃlvaro, a man obsessed with the idea of writi...          2017   \n",
       "5079  Two best friends band together with a group of...          2022   \n",
       "\n",
       "     age_certification  runtime         genres production_countries  \\\n",
       "2061                 R       95  documentation               ['US']   \n",
       "2297               NaN      104          drama         ['ES', 'MX']   \n",
       "5079               NaN      114         action               ['ID']   \n",
       "\n",
       "         imdb_id  imdb_score  imdb_votes  tmdb_popularity  tmdb_score  \\\n",
       "2061   tt3465276         6.1      6097.0            9.593         6.0   \n",
       "2297   tt5451244         6.5      5713.0            6.409         6.2   \n",
       "5079  tt13393058         5.4       222.0            5.486         5.7   \n",
       "\n",
       "                                            descr_words words_title    t75  \\\n",
       "2061  journalism icon gay talese reports gerald foos...      voyeur  False   \n",
       "2297  lvaro man obsessed idea writing brands high li...      motive  False   \n",
       "5079  two best friends band together group villages ...    ben jody  False   \n",
       "\n",
       "        t50    i75    i50  \n",
       "2061  False  False  False  \n",
       "2297  False  False   True  \n",
       "5079  False  False  False  "
      ]
     },
     "execution_count": 38,
     "metadata": {},
     "output_type": "execute_result"
    }
   ],
   "source": [
    "dg = mov.explode('genres')\n",
    "dg.sample(3)"
   ]
  },
  {
   "cell_type": "code",
   "execution_count": 39,
   "id": "4e4b7612-b1ed-436c-a30b-3d36a9294f1c",
   "metadata": {
    "tags": []
   },
   "outputs": [
    {
     "data": {
      "image/png": "[encoded data removed]",
      "text/plain": [
       "<Figure size 1080x648 with 1 Axes>"
      ]
     },
     "metadata": {},
     "output_type": "display_data"
    }
   ],
   "source": [
    "plt.figure(figsize=(15, 9))\n",
    "sns.boxplot(data=dg, x=\"imdb_score\", y=\"genres\")\n",
    "plt.show()"
   ]
  },
  {
   "cell_type": "code",
   "execution_count": 40,
   "id": "f7580037-5ed7-4cd0-8729-0a4cb767b3ed",
   "metadata": {
    "tags": []
   },
   "outputs": [
    {
     "data": {
      "text/html": [
       "<div>\n",
       "<style scoped>\n",
       "    .dataframe tbody tr th:only-of-type {\n",
       "        vertical-align: middle;\n",
       "    }\n",
       "\n",
       "    .dataframe tbody tr th {\n",
       "        vertical-align: top;\n",
       "    }\n",
       "\n",
       "    .dataframe thead th {\n",
       "        text-align: right;\n",
       "    }\n",
       "</style>\n",
       "<table border=\"1\" class=\"dataframe\">\n",
       "  <thead>\n",
       "    <tr style=\"text-align: right;\">\n",
       "      <th></th>\n",
       "      <th>genres</th>\n",
       "    </tr>\n",
       "  </thead>\n",
       "  <tbody>\n",
       "    <tr>\n",
       "      <th>drama</th>\n",
       "      <td>1727</td>\n",
       "    </tr>\n",
       "    <tr>\n",
       "      <th>comedy</th>\n",
       "      <td>1447</td>\n",
       "    </tr>\n",
       "    <tr>\n",
       "      <th>thriller</th>\n",
       "      <td>773</td>\n",
       "    </tr>\n",
       "    <tr>\n",
       "      <th>action</th>\n",
       "      <td>670</td>\n",
       "    </tr>\n",
       "    <tr>\n",
       "      <th>romance</th>\n",
       "      <td>661</td>\n",
       "    </tr>\n",
       "    <tr>\n",
       "      <th>crime</th>\n",
       "      <td>522</td>\n",
       "    </tr>\n",
       "    <tr>\n",
       "      <th>documentation</th>\n",
       "      <td>514</td>\n",
       "    </tr>\n",
       "    <tr>\n",
       "      <th>european</th>\n",
       "      <td>328</td>\n",
       "    </tr>\n",
       "    <tr>\n",
       "      <th>family</th>\n",
       "      <td>323</td>\n",
       "    </tr>\n",
       "    <tr>\n",
       "      <th>fantasy</th>\n",
       "      <td>299</td>\n",
       "    </tr>\n",
       "  </tbody>\n",
       "</table>\n",
       "</div>"
      ],
      "text/plain": [
       "               genres\n",
       "drama            1727\n",
       "comedy           1447\n",
       "thriller          773\n",
       "action            670\n",
       "romance           661\n",
       "crime             522\n",
       "documentation     514\n",
       "european          328\n",
       "family            323\n",
       "fantasy           299"
      ]
     },
     "execution_count": 40,
     "metadata": {},
     "output_type": "execute_result"
    }
   ],
   "source": [
    "# Весь датасет\n",
    "pd.DataFrame(dg.genres.value_counts()).head(10)"
   ]
  },
  {
   "cell_type": "code",
   "execution_count": 41,
   "id": "eac65fd3-e727-438f-a336-e0183fc5afdf",
   "metadata": {
    "tags": []
   },
   "outputs": [
    {
     "data": {
      "text/html": [
       "<div>\n",
       "<style scoped>\n",
       "    .dataframe tbody tr th:only-of-type {\n",
       "        vertical-align: middle;\n",
       "    }\n",
       "\n",
       "    .dataframe tbody tr th {\n",
       "        vertical-align: top;\n",
       "    }\n",
       "\n",
       "    .dataframe thead th {\n",
       "        text-align: right;\n",
       "    }\n",
       "</style>\n",
       "<table border=\"1\" class=\"dataframe\">\n",
       "  <thead>\n",
       "    <tr style=\"text-align: right;\">\n",
       "      <th></th>\n",
       "      <th>genres50</th>\n",
       "      <th>genres</th>\n",
       "      <th>pr</th>\n",
       "    </tr>\n",
       "  </thead>\n",
       "  <tbody>\n",
       "    <tr>\n",
       "      <th>history</th>\n",
       "      <td>80</td>\n",
       "      <td>142</td>\n",
       "      <td>56.34</td>\n",
       "    </tr>\n",
       "    <tr>\n",
       "      <th>war</th>\n",
       "      <td>54</td>\n",
       "      <td>96</td>\n",
       "      <td>56.25</td>\n",
       "    </tr>\n",
       "    <tr>\n",
       "      <th>western</th>\n",
       "      <td>12</td>\n",
       "      <td>28</td>\n",
       "      <td>42.86</td>\n",
       "    </tr>\n",
       "    <tr>\n",
       "      <th>reality</th>\n",
       "      <td>3</td>\n",
       "      <td>8</td>\n",
       "      <td>37.50</td>\n",
       "    </tr>\n",
       "    <tr>\n",
       "      <th>crime</th>\n",
       "      <td>177</td>\n",
       "      <td>522</td>\n",
       "      <td>33.91</td>\n",
       "    </tr>\n",
       "    <tr>\n",
       "      <th>european</th>\n",
       "      <td>111</td>\n",
       "      <td>328</td>\n",
       "      <td>33.84</td>\n",
       "    </tr>\n",
       "    <tr>\n",
       "      <th>drama</th>\n",
       "      <td>562</td>\n",
       "      <td>1727</td>\n",
       "      <td>32.54</td>\n",
       "    </tr>\n",
       "    <tr>\n",
       "      <th>fantasy</th>\n",
       "      <td>91</td>\n",
       "      <td>299</td>\n",
       "      <td>30.43</td>\n",
       "    </tr>\n",
       "    <tr>\n",
       "      <th>sport</th>\n",
       "      <td>34</td>\n",
       "      <td>112</td>\n",
       "      <td>30.36</td>\n",
       "    </tr>\n",
       "    <tr>\n",
       "      <th>action</th>\n",
       "      <td>198</td>\n",
       "      <td>670</td>\n",
       "      <td>29.55</td>\n",
       "    </tr>\n",
       "  </tbody>\n",
       "</table>\n",
       "</div>"
      ],
      "text/plain": [
       "          genres50  genres     pr\n",
       "history         80     142  56.34\n",
       "war             54      96  56.25\n",
       "western         12      28  42.86\n",
       "reality          3       8  37.50\n",
       "crime          177     522  33.91\n",
       "european       111     328  33.84\n",
       "drama          562    1727  32.54\n",
       "fantasy         91     299  30.43\n",
       "sport           34     112  30.36\n",
       "action         198     670  29.55"
      ]
     },
     "execution_count": 41,
     "metadata": {},
     "output_type": "execute_result"
    }
   ],
   "source": [
    "# Популярность и рейтинг больше среднего в IMDB\n",
    "a1 = pd.DataFrame(dg[(dg.imdb_score>IMDB50S)&(dg.imdb_votes>IMDB50)].genres.value_counts()).join(pd.DataFrame(dg.genres.value_counts()),how='left',lsuffix='50')\n",
    "a1['pr']=(a1.genres50/a1.genres*100).round(2)\n",
    "a1.sort_values(by='pr', ascending=False).head(10)"
   ]
  },
  {
   "cell_type": "code",
   "execution_count": 42,
   "id": "0fffdaff-c34c-460b-8e6d-db61af9978a0",
   "metadata": {
    "tags": []
   },
   "outputs": [
    {
     "data": {
      "text/html": [
       "<div>\n",
       "<style scoped>\n",
       "    .dataframe tbody tr th:only-of-type {\n",
       "        vertical-align: middle;\n",
       "    }\n",
       "\n",
       "    .dataframe tbody tr th {\n",
       "        vertical-align: top;\n",
       "    }\n",
       "\n",
       "    .dataframe thead th {\n",
       "        text-align: right;\n",
       "    }\n",
       "</style>\n",
       "<table border=\"1\" class=\"dataframe\">\n",
       "  <thead>\n",
       "    <tr style=\"text-align: right;\">\n",
       "      <th></th>\n",
       "      <th>genres50</th>\n",
       "      <th>genres</th>\n",
       "      <th>pr</th>\n",
       "    </tr>\n",
       "  </thead>\n",
       "  <tbody>\n",
       "    <tr>\n",
       "      <th>animation</th>\n",
       "      <td>117</td>\n",
       "      <td>211</td>\n",
       "      <td>55.45</td>\n",
       "    </tr>\n",
       "    <tr>\n",
       "      <th>history</th>\n",
       "      <td>75</td>\n",
       "      <td>142</td>\n",
       "      <td>52.82</td>\n",
       "    </tr>\n",
       "    <tr>\n",
       "      <th>war</th>\n",
       "      <td>47</td>\n",
       "      <td>96</td>\n",
       "      <td>48.96</td>\n",
       "    </tr>\n",
       "    <tr>\n",
       "      <th>fantasy</th>\n",
       "      <td>145</td>\n",
       "      <td>299</td>\n",
       "      <td>48.49</td>\n",
       "    </tr>\n",
       "    <tr>\n",
       "      <th>family</th>\n",
       "      <td>128</td>\n",
       "      <td>323</td>\n",
       "      <td>39.63</td>\n",
       "    </tr>\n",
       "    <tr>\n",
       "      <th>western</th>\n",
       "      <td>11</td>\n",
       "      <td>28</td>\n",
       "      <td>39.29</td>\n",
       "    </tr>\n",
       "    <tr>\n",
       "      <th>scifi</th>\n",
       "      <td>69</td>\n",
       "      <td>193</td>\n",
       "      <td>35.75</td>\n",
       "    </tr>\n",
       "    <tr>\n",
       "      <th>sport</th>\n",
       "      <td>40</td>\n",
       "      <td>112</td>\n",
       "      <td>35.71</td>\n",
       "    </tr>\n",
       "    <tr>\n",
       "      <th>european</th>\n",
       "      <td>112</td>\n",
       "      <td>328</td>\n",
       "      <td>34.15</td>\n",
       "    </tr>\n",
       "    <tr>\n",
       "      <th>action</th>\n",
       "      <td>221</td>\n",
       "      <td>670</td>\n",
       "      <td>32.99</td>\n",
       "    </tr>\n",
       "  </tbody>\n",
       "</table>\n",
       "</div>"
      ],
      "text/plain": [
       "           genres50  genres     pr\n",
       "animation       117     211  55.45\n",
       "history          75     142  52.82\n",
       "war              47      96  48.96\n",
       "fantasy         145     299  48.49\n",
       "family          128     323  39.63\n",
       "western          11      28  39.29\n",
       "scifi            69     193  35.75\n",
       "sport            40     112  35.71\n",
       "european        112     328  34.15\n",
       "action          221     670  32.99"
      ]
     },
     "execution_count": 42,
     "metadata": {},
     "output_type": "execute_result"
    }
   ],
   "source": [
    "# Популярность и рейтинг больше среднего в TMDB\n",
    "a2 = pd.DataFrame(dg[(dg.tmdb_score>TMDB50S)&(dg.tmdb_popularity>TMDB50)].genres.value_counts()).join(pd.DataFrame(dg.genres.value_counts()),how='left',lsuffix='50')\n",
    "a2['pr']=(a2.genres50/a2.genres*100).round(2)\n",
    "a2.sort_values(by='pr', ascending=False).head(10)"
   ]
  },
  {
   "cell_type": "code",
   "execution_count": 43,
   "id": "b3fbe0bf-cc96-41b0-ad6a-0fd046cc0622",
   "metadata": {
    "tags": []
   },
   "outputs": [
    {
     "data": {
      "text/html": [
       "<div>\n",
       "<style scoped>\n",
       "    .dataframe tbody tr th:only-of-type {\n",
       "        vertical-align: middle;\n",
       "    }\n",
       "\n",
       "    .dataframe tbody tr th {\n",
       "        vertical-align: top;\n",
       "    }\n",
       "\n",
       "    .dataframe thead th {\n",
       "        text-align: right;\n",
       "    }\n",
       "</style>\n",
       "<table border=\"1\" class=\"dataframe\">\n",
       "  <thead>\n",
       "    <tr style=\"text-align: right;\">\n",
       "      <th></th>\n",
       "      <th>genres50</th>\n",
       "      <th>genres</th>\n",
       "      <th>pr</th>\n",
       "    </tr>\n",
       "  </thead>\n",
       "  <tbody>\n",
       "    <tr>\n",
       "      <th>war</th>\n",
       "      <td>43</td>\n",
       "      <td>96</td>\n",
       "      <td>44.79</td>\n",
       "    </tr>\n",
       "    <tr>\n",
       "      <th>history</th>\n",
       "      <td>62</td>\n",
       "      <td>142</td>\n",
       "      <td>43.66</td>\n",
       "    </tr>\n",
       "    <tr>\n",
       "      <th>western</th>\n",
       "      <td>10</td>\n",
       "      <td>28</td>\n",
       "      <td>35.71</td>\n",
       "    </tr>\n",
       "    <tr>\n",
       "      <th>fantasy</th>\n",
       "      <td>84</td>\n",
       "      <td>299</td>\n",
       "      <td>28.09</td>\n",
       "    </tr>\n",
       "    <tr>\n",
       "      <th>european</th>\n",
       "      <td>87</td>\n",
       "      <td>328</td>\n",
       "      <td>26.52</td>\n",
       "    </tr>\n",
       "    <tr>\n",
       "      <th>animation</th>\n",
       "      <td>54</td>\n",
       "      <td>211</td>\n",
       "      <td>25.59</td>\n",
       "    </tr>\n",
       "    <tr>\n",
       "      <th>reality</th>\n",
       "      <td>2</td>\n",
       "      <td>8</td>\n",
       "      <td>25.00</td>\n",
       "    </tr>\n",
       "    <tr>\n",
       "      <th>scifi</th>\n",
       "      <td>47</td>\n",
       "      <td>193</td>\n",
       "      <td>24.35</td>\n",
       "    </tr>\n",
       "    <tr>\n",
       "      <th>drama</th>\n",
       "      <td>380</td>\n",
       "      <td>1727</td>\n",
       "      <td>22.00</td>\n",
       "    </tr>\n",
       "    <tr>\n",
       "      <th>action</th>\n",
       "      <td>139</td>\n",
       "      <td>670</td>\n",
       "      <td>20.75</td>\n",
       "    </tr>\n",
       "  </tbody>\n",
       "</table>\n",
       "</div>"
      ],
      "text/plain": [
       "           genres50  genres     pr\n",
       "war              43      96  44.79\n",
       "history          62     142  43.66\n",
       "western          10      28  35.71\n",
       "fantasy          84     299  28.09\n",
       "european         87     328  26.52\n",
       "animation        54     211  25.59\n",
       "reality           2       8  25.00\n",
       "scifi            47     193  24.35\n",
       "drama           380    1727  22.00\n",
       "action          139     670  20.75"
      ]
     },
     "execution_count": 43,
     "metadata": {},
     "output_type": "execute_result"
    }
   ],
   "source": [
    "# Популярность и рейтинг больше среднего в IMDB и в TMDB\n",
    "a3 = pd.DataFrame(dg[(dg.tmdb_score>TMDB50S)&(dg.tmdb_popularity>TMDB50)&(dg.imdb_score>IMDB50S)&(dg.imdb_votes>IMDB50)].genres.value_counts()).join(pd.DataFrame(dg.genres.value_counts()),how='left',lsuffix='50')\n",
    "a3['pr']=(a3.genres50/a3.genres*100).round(2)\n",
    "a3.sort_values(by='pr', ascending=False).head(10)"
   ]
  },
  {
   "cell_type": "markdown",
   "id": "2887bfac-9521-4911-8570-98d791979f1c",
   "metadata": {},
   "source": [
    "### В каких странах больше всего выпущено фильмов"
   ]
  },
  {
   "cell_type": "code",
   "execution_count": 44,
   "id": "bd03c245-b33f-4ed7-8106-960e97c49542",
   "metadata": {},
   "outputs": [],
   "source": [
    "mov['production_countries'] = mov['production_countries'].apply(lambda x: x[1:-1].replace(\"'\",\"\").replace(\" \",\"\").split(\",\"))"
   ]
  },
  {
   "cell_type": "code",
   "execution_count": 45,
   "id": "f58da9bb-5519-4162-95e0-3f3eb5ffa863",
   "metadata": {},
   "outputs": [
    {
     "data": {
      "text/html": [
       "<div>\n",
       "<style scoped>\n",
       "    .dataframe tbody tr th:only-of-type {\n",
       "        vertical-align: middle;\n",
       "    }\n",
       "\n",
       "    .dataframe tbody tr th {\n",
       "        vertical-align: top;\n",
       "    }\n",
       "\n",
       "    .dataframe thead th {\n",
       "        text-align: right;\n",
       "    }\n",
       "</style>\n",
       "<table border=\"1\" class=\"dataframe\">\n",
       "  <thead>\n",
       "    <tr style=\"text-align: right;\">\n",
       "      <th></th>\n",
       "      <th>id</th>\n",
       "      <th>title</th>\n",
       "      <th>type</th>\n",
       "      <th>description</th>\n",
       "      <th>release_year</th>\n",
       "      <th>age_certification</th>\n",
       "      <th>runtime</th>\n",
       "      <th>genres</th>\n",
       "      <th>production_countries</th>\n",
       "      <th>imdb_id</th>\n",
       "      <th>imdb_score</th>\n",
       "      <th>imdb_votes</th>\n",
       "      <th>tmdb_popularity</th>\n",
       "      <th>tmdb_score</th>\n",
       "      <th>descr_words</th>\n",
       "      <th>words_title</th>\n",
       "      <th>t75</th>\n",
       "      <th>t50</th>\n",
       "      <th>i75</th>\n",
       "      <th>i50</th>\n",
       "    </tr>\n",
       "  </thead>\n",
       "  <tbody>\n",
       "    <tr>\n",
       "      <th>2184</th>\n",
       "      <td>tm313293</td>\n",
       "      <td>Whose Streets?</td>\n",
       "      <td>MOVIE</td>\n",
       "      <td>A nonfiction account of the Ferguson uprising ...</td>\n",
       "      <td>2017</td>\n",
       "      <td>R</td>\n",
       "      <td>90</td>\n",
       "      <td>[documentation]</td>\n",
       "      <td>US</td>\n",
       "      <td>tt6176928</td>\n",
       "      <td>5.5</td>\n",
       "      <td>1337.0</td>\n",
       "      <td>2.526</td>\n",
       "      <td>5.8</td>\n",
       "      <td>nonfiction account ferguson uprising told peop...</td>\n",
       "      <td>whose streets</td>\n",
       "      <td>False</td>\n",
       "      <td>False</td>\n",
       "      <td>False</td>\n",
       "      <td>False</td>\n",
       "    </tr>\n",
       "    <tr>\n",
       "      <th>2669</th>\n",
       "      <td>tm411313</td>\n",
       "      <td>Forgive Us Our Debts</td>\n",
       "      <td>MOVIE</td>\n",
       "      <td>Threatened by creditors, a newly unemployed ma...</td>\n",
       "      <td>2018</td>\n",
       "      <td>NaN</td>\n",
       "      <td>104</td>\n",
       "      <td>[drama, european]</td>\n",
       "      <td>CH</td>\n",
       "      <td>tt6679412</td>\n",
       "      <td>6.2</td>\n",
       "      <td>1604.0</td>\n",
       "      <td>5.855</td>\n",
       "      <td>6.1</td>\n",
       "      <td>threatened creditors newly unemployed man agre...</td>\n",
       "      <td>forgive us debts</td>\n",
       "      <td>False</td>\n",
       "      <td>False</td>\n",
       "      <td>False</td>\n",
       "      <td>False</td>\n",
       "    </tr>\n",
       "    <tr>\n",
       "      <th>2115</th>\n",
       "      <td>tm347530</td>\n",
       "      <td>Gaga: Five Foot Two</td>\n",
       "      <td>MOVIE</td>\n",
       "      <td>Go behind the scenes with pop provocateur Lady...</td>\n",
       "      <td>2017</td>\n",
       "      <td>NaN</td>\n",
       "      <td>100</td>\n",
       "      <td>[music, documentation]</td>\n",
       "      <td>US</td>\n",
       "      <td>tt7291268</td>\n",
       "      <td>7.0</td>\n",
       "      <td>12937.0</td>\n",
       "      <td>8.707</td>\n",
       "      <td>7.5</td>\n",
       "      <td>go behind scenes pop provocateur lady gaga rel...</td>\n",
       "      <td>gaga five foot two</td>\n",
       "      <td>False</td>\n",
       "      <td>True</td>\n",
       "      <td>False</td>\n",
       "      <td>True</td>\n",
       "    </tr>\n",
       "  </tbody>\n",
       "</table>\n",
       "</div>"
      ],
      "text/plain": [
       "            id                 title   type  \\\n",
       "2184  tm313293        Whose Streets?  MOVIE   \n",
       "2669  tm411313  Forgive Us Our Debts  MOVIE   \n",
       "2115  tm347530   Gaga: Five Foot Two  MOVIE   \n",
       "\n",
       "                                            description  release_year  \\\n",
       "2184  A nonfiction account of the Ferguson uprising ...          2017   \n",
       "2669  Threatened by creditors, a newly unemployed ma...          2018   \n",
       "2115  Go behind the scenes with pop provocateur Lady...          2017   \n",
       "\n",
       "     age_certification  runtime                  genres production_countries  \\\n",
       "2184                 R       90         [documentation]                   US   \n",
       "2669               NaN      104       [drama, european]                   CH   \n",
       "2115               NaN      100  [music, documentation]                   US   \n",
       "\n",
       "        imdb_id  imdb_score  imdb_votes  tmdb_popularity  tmdb_score  \\\n",
       "2184  tt6176928         5.5      1337.0            2.526         5.8   \n",
       "2669  tt6679412         6.2      1604.0            5.855         6.1   \n",
       "2115  tt7291268         7.0     12937.0            8.707         7.5   \n",
       "\n",
       "                                            descr_words         words_title  \\\n",
       "2184  nonfiction account ferguson uprising told peop...       whose streets   \n",
       "2669  threatened creditors newly unemployed man agre...    forgive us debts   \n",
       "2115  go behind scenes pop provocateur lady gaga rel...  gaga five foot two   \n",
       "\n",
       "        t75    t50    i75    i50  \n",
       "2184  False  False  False  False  \n",
       "2669  False  False  False  False  \n",
       "2115  False   True  False   True  "
      ]
     },
     "execution_count": 45,
     "metadata": {},
     "output_type": "execute_result"
    }
   ],
   "source": [
    "dc = mov.explode('production_countries')\n",
    "dc.sample(3)"
   ]
  },
  {
   "cell_type": "code",
   "execution_count": 46,
   "id": "cc56d86a-88f9-44a3-9c9d-22228c906207",
   "metadata": {},
   "outputs": [
    {
     "data": {
      "text/html": [
       "<style  type=\"text/css\" >\n",
       "#T_79ff5_row0_col0{\n",
       "            width:  10em;\n",
       "             height:  80%;\n",
       "            background:  linear-gradient(90deg,yellow 100.0%, transparent 100.0%);\n",
       "        }#T_79ff5_row1_col0{\n",
       "            width:  10em;\n",
       "             height:  80%;\n",
       "            background:  linear-gradient(90deg,yellow 35.7%, transparent 35.7%);\n",
       "        }#T_79ff5_row2_col0{\n",
       "            width:  10em;\n",
       "             height:  80%;\n",
       "            background:  linear-gradient(90deg,yellow 12.5%, transparent 12.5%);\n",
       "        }#T_79ff5_row3_col0{\n",
       "            width:  10em;\n",
       "             height:  80%;\n",
       "            background:  linear-gradient(90deg,yellow 7.4%, transparent 7.4%);\n",
       "        }#T_79ff5_row4_col0{\n",
       "            width:  10em;\n",
       "             height:  80%;\n",
       "            background:  linear-gradient(90deg,yellow 4.7%, transparent 4.7%);\n",
       "        }#T_79ff5_row5_col0{\n",
       "            width:  10em;\n",
       "             height:  80%;\n",
       "            background:  linear-gradient(90deg,yellow 4.1%, transparent 4.1%);\n",
       "        }#T_79ff5_row6_col0,#T_79ff5_row7_col0{\n",
       "            width:  10em;\n",
       "             height:  80%;\n",
       "            background:  linear-gradient(90deg,yellow 1.9%, transparent 1.9%);\n",
       "        }#T_79ff5_row8_col0{\n",
       "            width:  10em;\n",
       "             height:  80%;\n",
       "            background:  linear-gradient(90deg,yellow 0.2%, transparent 0.2%);\n",
       "        }#T_79ff5_row9_col0{\n",
       "            width:  10em;\n",
       "             height:  80%;\n",
       "        }</style><table id=\"T_79ff5_\" ><thead>    <tr>        <th class=\"blank level0\" ></th>        <th class=\"col_heading level0 col0\" >production_countries</th>    </tr></thead><tbody>\n",
       "                <tr>\n",
       "                        <th id=\"T_79ff5_level0_row0\" class=\"row_heading level0 row0\" >US</th>\n",
       "                        <td id=\"T_79ff5_row0_col0\" class=\"data row0 col0\" >1354</td>\n",
       "            </tr>\n",
       "            <tr>\n",
       "                        <th id=\"T_79ff5_level0_row1\" class=\"row_heading level0 row1\" >IN</th>\n",
       "                        <td id=\"T_79ff5_row1_col0\" class=\"data row1 col0\" >532</td>\n",
       "            </tr>\n",
       "            <tr>\n",
       "                        <th id=\"T_79ff5_level0_row2\" class=\"row_heading level0 row2\" >GB</th>\n",
       "                        <td id=\"T_79ff5_row2_col0\" class=\"data row2 col0\" >235</td>\n",
       "            </tr>\n",
       "            <tr>\n",
       "                        <th id=\"T_79ff5_level0_row3\" class=\"row_heading level0 row3\" >FR</th>\n",
       "                        <td id=\"T_79ff5_row3_col0\" class=\"data row3 col0\" >170</td>\n",
       "            </tr>\n",
       "            <tr>\n",
       "                        <th id=\"T_79ff5_level0_row4\" class=\"row_heading level0 row4\" >CA</th>\n",
       "                        <td id=\"T_79ff5_row4_col0\" class=\"data row4 col0\" >135</td>\n",
       "            </tr>\n",
       "            <tr>\n",
       "                        <th id=\"T_79ff5_level0_row5\" class=\"row_heading level0 row5\" >ES</th>\n",
       "                        <td id=\"T_79ff5_row5_col0\" class=\"data row5 col0\" >127</td>\n",
       "            </tr>\n",
       "            <tr>\n",
       "                        <th id=\"T_79ff5_level0_row6\" class=\"row_heading level0 row6\" >JP</th>\n",
       "                        <td id=\"T_79ff5_row6_col0\" class=\"data row6 col0\" >99</td>\n",
       "            </tr>\n",
       "            <tr>\n",
       "                        <th id=\"T_79ff5_level0_row7\" class=\"row_heading level0 row7\" >DE</th>\n",
       "                        <td id=\"T_79ff5_row7_col0\" class=\"data row7 col0\" >99</td>\n",
       "            </tr>\n",
       "            <tr>\n",
       "                        <th id=\"T_79ff5_level0_row8\" class=\"row_heading level0 row8\" >PH</th>\n",
       "                        <td id=\"T_79ff5_row8_col0\" class=\"data row8 col0\" >77</td>\n",
       "            </tr>\n",
       "            <tr>\n",
       "                        <th id=\"T_79ff5_level0_row9\" class=\"row_heading level0 row9\" ></th>\n",
       "                        <td id=\"T_79ff5_row9_col0\" class=\"data row9 col0\" >75</td>\n",
       "            </tr>\n",
       "    </tbody></table>"
      ],
      "text/plain": [
       "<pandas.io.formats.style.Styler at 0x10200580>"
      ]
     },
     "execution_count": 46,
     "metadata": {},
     "output_type": "execute_result"
    }
   ],
   "source": [
    "pd.DataFrame(dc.production_countries.value_counts()).sort_values(by = 'production_countries', ascending=False).head(10).style.bar(color='yellow')"
   ]
  },
  {
   "cell_type": "code",
   "execution_count": 47,
   "id": "8141c0ec-a797-46b0-ac23-8484f4fcb0ba",
   "metadata": {},
   "outputs": [
    {
     "data": {
      "image/png": "[encoded data removed]",
      "text/plain": [
       "<Figure size 720x720 with 4 Axes>"
      ]
     },
     "metadata": {},
     "output_type": "display_data"
    }
   ],
   "source": [
    "countries_to_keep = ['US','IN','GB','FR','CA','ES']\n",
    "fig, axes = plt.subplots(2, 2, figsize=(10, 10), sharey=True)\n",
    "\n",
    "sns.boxplot(ax=axes[0, 0], data=dc[dc.production_countries.isin(countries_to_keep) & (dc.i75==True)], x=\"imdb_score\", y=\"production_countries\")\n",
    "sns.boxplot(ax=axes[0, 1], data=dc[dc.production_countries.isin(countries_to_keep) & (dc.t75==True)], x=\"tmdb_score\", y=\"production_countries\")\n",
    "sns.boxplot(ax=axes[1, 0], data=dc[dc.production_countries.isin(countries_to_keep) & (dc.i50==True)], x=\"imdb_score\", y=\"production_countries\")\n",
    "sns.boxplot(ax=axes[1, 1], data=dc[dc.production_countries.isin(countries_to_keep) & (dc.t50==True)], x=\"tmdb_score\", y=\"production_countries\")\n",
    "plt.show()"
   ]
  },
  {
   "cell_type": "markdown",
   "id": "916140b4-88f3-45df-a90e-622d7e0b82e5",
   "metadata": {},
   "source": [
    "В рейтинге TMDB средние значения незначительно смещены друг относительно друга. Распределения оценок для фильмов с рейтингом и популярностью выше среднего также отличаются незначительно.\n",
    "\n",
    "В рейтинге IMDB, напротив, можно выделить Канаду, где средний рейтинг фильма и распределение оценок в целом смещёно влево относительно других стран."
   ]
  },
  {
   "cell_type": "markdown",
   "id": "e5747efc-be9e-494c-8f76-f9d1a0b4cc6a",
   "metadata": {},
   "source": [
    "### Какие режиссёры сняли больше всего фильмов"
   ]
  },
  {
   "cell_type": "code",
   "execution_count": 48,
   "id": "9b84ce7d-6f9b-4341-b2a2-6dabc87db4d7",
   "metadata": {},
   "outputs": [
    {
     "data": {
      "text/html": [
       "<div>\n",
       "<style scoped>\n",
       "    .dataframe tbody tr th:only-of-type {\n",
       "        vertical-align: middle;\n",
       "    }\n",
       "\n",
       "    .dataframe tbody tr th {\n",
       "        vertical-align: top;\n",
       "    }\n",
       "\n",
       "    .dataframe thead th {\n",
       "        text-align: right;\n",
       "    }\n",
       "</style>\n",
       "<table border=\"1\" class=\"dataframe\">\n",
       "  <thead>\n",
       "    <tr style=\"text-align: right;\">\n",
       "      <th></th>\n",
       "      <th>person_id</th>\n",
       "      <th>id</th>\n",
       "      <th>name</th>\n",
       "      <th>character</th>\n",
       "      <th>role</th>\n",
       "    </tr>\n",
       "  </thead>\n",
       "  <tbody>\n",
       "    <tr>\n",
       "      <th>13786</th>\n",
       "      <td>524</td>\n",
       "      <td>ts27468</td>\n",
       "      <td>Jeff Bennett</td>\n",
       "      <td>Huxley Prescott (voice)</td>\n",
       "      <td>ACTOR</td>\n",
       "    </tr>\n",
       "    <tr>\n",
       "      <th>28731</th>\n",
       "      <td>45280</td>\n",
       "      <td>tm244364</td>\n",
       "      <td>Nathaniel Dean</td>\n",
       "      <td>Stoakes</td>\n",
       "      <td>ACTOR</td>\n",
       "    </tr>\n",
       "    <tr>\n",
       "      <th>66804</th>\n",
       "      <td>1052898</td>\n",
       "      <td>tm1064228</td>\n",
       "      <td>Raynnie Platz</td>\n",
       "      <td>Private school student</td>\n",
       "      <td>ACTOR</td>\n",
       "    </tr>\n",
       "  </tbody>\n",
       "</table>\n",
       "</div>"
      ],
      "text/plain": [
       "       person_id         id            name                character   role\n",
       "13786        524    ts27468    Jeff Bennett  Huxley Prescott (voice)  ACTOR\n",
       "28731      45280   tm244364  Nathaniel Dean                  Stoakes  ACTOR\n",
       "66804    1052898  tm1064228   Raynnie Platz   Private school student  ACTOR"
      ]
     },
     "execution_count": 48,
     "metadata": {},
     "output_type": "execute_result"
    }
   ],
   "source": [
    "cr = pd.read_excel('Credits.xlsx')\n",
    "cr.sample(3)"
   ]
  },
  {
   "cell_type": "code",
   "execution_count": 49,
   "id": "3c37dca2-8f58-4304-8912-a6fde1d9d1c1",
   "metadata": {},
   "outputs": [
    {
     "data": {
      "text/html": [
       "<div>\n",
       "<style scoped>\n",
       "    .dataframe tbody tr th:only-of-type {\n",
       "        vertical-align: middle;\n",
       "    }\n",
       "\n",
       "    .dataframe tbody tr th {\n",
       "        vertical-align: top;\n",
       "    }\n",
       "\n",
       "    .dataframe thead th {\n",
       "        text-align: right;\n",
       "    }\n",
       "</style>\n",
       "<table border=\"1\" class=\"dataframe\">\n",
       "  <thead>\n",
       "    <tr style=\"text-align: right;\">\n",
       "      <th></th>\n",
       "      <th>name</th>\n",
       "    </tr>\n",
       "    <tr>\n",
       "      <th>id</th>\n",
       "      <th></th>\n",
       "    </tr>\n",
       "  </thead>\n",
       "  <tbody>\n",
       "    <tr>\n",
       "      <th>tm470836</th>\n",
       "      <td>Simon Lupton</td>\n",
       "    </tr>\n",
       "    <tr>\n",
       "      <th>tm1033635</th>\n",
       "      <td>Tone GrГёttjord-Glenne</td>\n",
       "    </tr>\n",
       "    <tr>\n",
       "      <th>tm183805</th>\n",
       "      <td>Raj Kumar Gupta</td>\n",
       "    </tr>\n",
       "  </tbody>\n",
       "</table>\n",
       "</div>"
      ],
      "text/plain": [
       "                             name\n",
       "id                               \n",
       "tm470836             Simon Lupton\n",
       "tm1033635  Tone GrГёttjord-Glenne\n",
       "tm183805          Raj Kumar Gupta"
      ]
     },
     "execution_count": 49,
     "metadata": {},
     "output_type": "execute_result"
    }
   ],
   "source": [
    "dr = cr.loc[cr.role == 'DIRECTOR'][['id','name']].set_index('id')\n",
    "dr.sample(3)"
   ]
  },
  {
   "cell_type": "code",
   "execution_count": 50,
   "id": "2e8770cf-153d-4b35-b5e1-00380d31719e",
   "metadata": {},
   "outputs": [
    {
     "data": {
      "text/html": [
       "<div>\n",
       "<style scoped>\n",
       "    .dataframe tbody tr th:only-of-type {\n",
       "        vertical-align: middle;\n",
       "    }\n",
       "\n",
       "    .dataframe tbody tr th {\n",
       "        vertical-align: top;\n",
       "    }\n",
       "\n",
       "    .dataframe thead th {\n",
       "        text-align: right;\n",
       "    }\n",
       "</style>\n",
       "<table border=\"1\" class=\"dataframe\">\n",
       "  <thead>\n",
       "    <tr style=\"text-align: right;\">\n",
       "      <th></th>\n",
       "      <th>id</th>\n",
       "      <th>title</th>\n",
       "      <th>type</th>\n",
       "      <th>description</th>\n",
       "      <th>release_year</th>\n",
       "      <th>age_certification</th>\n",
       "      <th>runtime</th>\n",
       "      <th>genres</th>\n",
       "      <th>production_countries</th>\n",
       "      <th>imdb_id</th>\n",
       "      <th>...</th>\n",
       "      <th>imdb_votes</th>\n",
       "      <th>tmdb_popularity</th>\n",
       "      <th>tmdb_score</th>\n",
       "      <th>descr_words</th>\n",
       "      <th>words_title</th>\n",
       "      <th>t75</th>\n",
       "      <th>t50</th>\n",
       "      <th>i75</th>\n",
       "      <th>i50</th>\n",
       "      <th>name</th>\n",
       "    </tr>\n",
       "  </thead>\n",
       "  <tbody>\n",
       "    <tr>\n",
       "      <th>1963</th>\n",
       "      <td>tm307383</td>\n",
       "      <td>Ghost Hunting</td>\n",
       "      <td>MOVIE</td>\n",
       "      <td>A set-up for an experiment in an empty room, F...</td>\n",
       "      <td>2017</td>\n",
       "      <td>NaN</td>\n",
       "      <td>94</td>\n",
       "      <td>[documentation, european]</td>\n",
       "      <td>[FR, PS, CH, QA]</td>\n",
       "      <td>tt6568868</td>\n",
       "      <td>...</td>\n",
       "      <td>222.0</td>\n",
       "      <td>1.897</td>\n",
       "      <td>6.3</td>\n",
       "      <td>setup experiment empty room former inmates rec...</td>\n",
       "      <td>ghost hunting</td>\n",
       "      <td>False</td>\n",
       "      <td>False</td>\n",
       "      <td>False</td>\n",
       "      <td>False</td>\n",
       "      <td>NaN</td>\n",
       "    </tr>\n",
       "    <tr>\n",
       "      <th>1776</th>\n",
       "      <td>tm443034</td>\n",
       "      <td>Your Son</td>\n",
       "      <td>MOVIE</td>\n",
       "      <td>Jaime, a doctor who lives in Seville, finds hi...</td>\n",
       "      <td>2018</td>\n",
       "      <td>NaN</td>\n",
       "      <td>103</td>\n",
       "      <td>[drama, crime, thriller, action, european]</td>\n",
       "      <td>[ES]</td>\n",
       "      <td>tt7807026</td>\n",
       "      <td>...</td>\n",
       "      <td>4796.0</td>\n",
       "      <td>10.487</td>\n",
       "      <td>5.7</td>\n",
       "      <td>jaime doctor lives seville finds life radicall...</td>\n",
       "      <td>son</td>\n",
       "      <td>False</td>\n",
       "      <td>False</td>\n",
       "      <td>False</td>\n",
       "      <td>False</td>\n",
       "      <td>Miguel ГЃngel Vivas</td>\n",
       "    </tr>\n",
       "    <tr>\n",
       "      <th>3543</th>\n",
       "      <td>tm1122095</td>\n",
       "      <td>A Naija Christmas</td>\n",
       "      <td>MOVIE</td>\n",
       "      <td>A mother's Christmas wish - and the grand priz...</td>\n",
       "      <td>2021</td>\n",
       "      <td>NaN</td>\n",
       "      <td>121</td>\n",
       "      <td>[comedy, drama, romance]</td>\n",
       "      <td>[NG]</td>\n",
       "      <td>tt15565704</td>\n",
       "      <td>...</td>\n",
       "      <td>342.0</td>\n",
       "      <td>18.261</td>\n",
       "      <td>7.0</td>\n",
       "      <td>mothers christmas wish grand prize comes sets ...</td>\n",
       "      <td>naija christmas</td>\n",
       "      <td>False</td>\n",
       "      <td>True</td>\n",
       "      <td>False</td>\n",
       "      <td>False</td>\n",
       "      <td>Kunle Afolayan</td>\n",
       "    </tr>\n",
       "  </tbody>\n",
       "</table>\n",
       "<p>3 rows × 21 columns</p>\n",
       "</div>"
      ],
      "text/plain": [
       "             id              title   type  \\\n",
       "1963   tm307383      Ghost Hunting  MOVIE   \n",
       "1776   tm443034           Your Son  MOVIE   \n",
       "3543  tm1122095  A Naija Christmas  MOVIE   \n",
       "\n",
       "                                            description  release_year  \\\n",
       "1963  A set-up for an experiment in an empty room, F...          2017   \n",
       "1776  Jaime, a doctor who lives in Seville, finds hi...          2018   \n",
       "3543  A mother's Christmas wish - and the grand priz...          2021   \n",
       "\n",
       "     age_certification  runtime                                      genres  \\\n",
       "1963               NaN       94                   [documentation, european]   \n",
       "1776               NaN      103  [drama, crime, thriller, action, european]   \n",
       "3543               NaN      121                    [comedy, drama, romance]   \n",
       "\n",
       "     production_countries     imdb_id  ...  imdb_votes  tmdb_popularity  \\\n",
       "1963     [FR, PS, CH, QA]   tt6568868  ...       222.0            1.897   \n",
       "1776                 [ES]   tt7807026  ...      4796.0           10.487   \n",
       "3543                 [NG]  tt15565704  ...       342.0           18.261   \n",
       "\n",
       "      tmdb_score                                        descr_words  \\\n",
       "1963         6.3  setup experiment empty room former inmates rec...   \n",
       "1776         5.7  jaime doctor lives seville finds life radicall...   \n",
       "3543         7.0  mothers christmas wish grand prize comes sets ...   \n",
       "\n",
       "          words_title    t75    t50    i75    i50                 name  \n",
       "1963    ghost hunting  False  False  False  False                  NaN  \n",
       "1776              son  False  False  False  False  Miguel ГЃngel Vivas  \n",
       "3543  naija christmas  False   True  False  False       Kunle Afolayan  \n",
       "\n",
       "[3 rows x 21 columns]"
      ]
     },
     "execution_count": 50,
     "metadata": {},
     "output_type": "execute_result"
    }
   ],
   "source": [
    "name = mov.merge(dr, how='left', on ='id')\n",
    "name.sample(3)"
   ]
  },
  {
   "cell_type": "code",
   "execution_count": 51,
   "id": "433f4270-07a0-4679-9496-c3f2085c084b",
   "metadata": {},
   "outputs": [
    {
     "data": {
      "text/html": [
       "<div>\n",
       "<style scoped>\n",
       "    .dataframe tbody tr th:only-of-type {\n",
       "        vertical-align: middle;\n",
       "    }\n",
       "\n",
       "    .dataframe tbody tr th {\n",
       "        vertical-align: top;\n",
       "    }\n",
       "\n",
       "    .dataframe thead th {\n",
       "        text-align: right;\n",
       "    }\n",
       "</style>\n",
       "<table border=\"1\" class=\"dataframe\">\n",
       "  <thead>\n",
       "    <tr style=\"text-align: right;\">\n",
       "      <th></th>\n",
       "      <th>title_i50</th>\n",
       "      <th>title</th>\n",
       "    </tr>\n",
       "    <tr>\n",
       "      <th>name</th>\n",
       "      <th></th>\n",
       "      <th></th>\n",
       "    </tr>\n",
       "  </thead>\n",
       "  <tbody>\n",
       "    <tr>\n",
       "      <th>Jay Karas</th>\n",
       "      <td>7</td>\n",
       "      <td>14</td>\n",
       "    </tr>\n",
       "    <tr>\n",
       "      <th>Anurag Kashyap</th>\n",
       "      <td>6</td>\n",
       "      <td>6</td>\n",
       "    </tr>\n",
       "    <tr>\n",
       "      <th>Mani Ratnam</th>\n",
       "      <td>6</td>\n",
       "      <td>6</td>\n",
       "    </tr>\n",
       "    <tr>\n",
       "      <th>Imtiaz Ali</th>\n",
       "      <td>5</td>\n",
       "      <td>5</td>\n",
       "    </tr>\n",
       "    <tr>\n",
       "      <th>Ashutosh Gowariker</th>\n",
       "      <td>5</td>\n",
       "      <td>6</td>\n",
       "    </tr>\n",
       "  </tbody>\n",
       "</table>\n",
       "</div>"
      ],
      "text/plain": [
       "                    title_i50  title\n",
       "name                                \n",
       "Jay Karas                   7     14\n",
       "Anurag Kashyap              6      6\n",
       "Mani Ratnam                 6      6\n",
       "Imtiaz Ali                  5      5\n",
       "Ashutosh Gowariker          5      6"
      ]
     },
     "execution_count": 51,
     "metadata": {},
     "output_type": "execute_result"
    }
   ],
   "source": [
    "# Число обсуждаемых больше среднего в IMDB и общее число работ\n",
    "pd.DataFrame(name[name.imdb_votes>IMDB50].groupby('name').title.nunique().sort_values(ascending=False))\\\n",
    ".merge(pd.DataFrame(name.groupby('name').title.nunique().sort_values(ascending=False)), how='inner', on='name', suffixes=('_i50', '')).head(5)"
   ]
  },
  {
   "cell_type": "code",
   "execution_count": 52,
   "id": "4abda01d-94d1-40a3-b402-bd12de1038b1",
   "metadata": {},
   "outputs": [
    {
     "data": {
      "text/html": [
       "<div>\n",
       "<style scoped>\n",
       "    .dataframe tbody tr th:only-of-type {\n",
       "        vertical-align: middle;\n",
       "    }\n",
       "\n",
       "    .dataframe tbody tr th {\n",
       "        vertical-align: top;\n",
       "    }\n",
       "\n",
       "    .dataframe thead th {\n",
       "        text-align: right;\n",
       "    }\n",
       "</style>\n",
       "<table border=\"1\" class=\"dataframe\">\n",
       "  <thead>\n",
       "    <tr style=\"text-align: right;\">\n",
       "      <th></th>\n",
       "      <th>title_t50</th>\n",
       "      <th>title</th>\n",
       "    </tr>\n",
       "    <tr>\n",
       "      <th>name</th>\n",
       "      <th></th>\n",
       "      <th></th>\n",
       "    </tr>\n",
       "  </thead>\n",
       "  <tbody>\n",
       "    <tr>\n",
       "      <th>Martin Scorsese</th>\n",
       "      <td>5</td>\n",
       "      <td>5</td>\n",
       "    </tr>\n",
       "    <tr>\n",
       "      <th>Steven Brill</th>\n",
       "      <td>5</td>\n",
       "      <td>5</td>\n",
       "    </tr>\n",
       "    <tr>\n",
       "      <th>Ernie Barbarash</th>\n",
       "      <td>4</td>\n",
       "      <td>4</td>\n",
       "    </tr>\n",
       "    <tr>\n",
       "      <th>Ashutosh Gowariker</th>\n",
       "      <td>4</td>\n",
       "      <td>6</td>\n",
       "    </tr>\n",
       "    <tr>\n",
       "      <th>Savage Steve Holland</th>\n",
       "      <td>4</td>\n",
       "      <td>4</td>\n",
       "    </tr>\n",
       "  </tbody>\n",
       "</table>\n",
       "</div>"
      ],
      "text/plain": [
       "                      title_t50  title\n",
       "name                                  \n",
       "Martin Scorsese               5      5\n",
       "Steven Brill                  5      5\n",
       "Ernie Barbarash               4      4\n",
       "Ashutosh Gowariker            4      6\n",
       "Savage Steve Holland          4      4"
      ]
     },
     "execution_count": 52,
     "metadata": {},
     "output_type": "execute_result"
    }
   ],
   "source": [
    "# Число обсуждаемых больше среднего  в TMDB и общее число работ\n",
    "pd.DataFrame(name[name.tmdb_popularity>TMDB50].groupby('name').title.nunique().sort_values(ascending=False))\\\n",
    ".merge(pd.DataFrame(name.groupby('name').title.nunique().sort_values(ascending=False)), how='inner', on='name', suffixes=('_t50', '')).head(5)"
   ]
  },
  {
   "cell_type": "code",
   "execution_count": 53,
   "id": "814d18ef-f9b4-45eb-92aa-87d04e743ef8",
   "metadata": {},
   "outputs": [
    {
     "data": {
      "text/html": [
       "<div>\n",
       "<style scoped>\n",
       "    .dataframe tbody tr th:only-of-type {\n",
       "        vertical-align: middle;\n",
       "    }\n",
       "\n",
       "    .dataframe tbody tr th {\n",
       "        vertical-align: top;\n",
       "    }\n",
       "\n",
       "    .dataframe thead th {\n",
       "        text-align: right;\n",
       "    }\n",
       "</style>\n",
       "<table border=\"1\" class=\"dataframe\">\n",
       "  <thead>\n",
       "    <tr style=\"text-align: right;\">\n",
       "      <th></th>\n",
       "      <th>title_50</th>\n",
       "      <th>title</th>\n",
       "    </tr>\n",
       "    <tr>\n",
       "      <th>name</th>\n",
       "      <th></th>\n",
       "      <th></th>\n",
       "    </tr>\n",
       "  </thead>\n",
       "  <tbody>\n",
       "    <tr>\n",
       "      <th>Martin Scorsese</th>\n",
       "      <td>5</td>\n",
       "      <td>5</td>\n",
       "    </tr>\n",
       "    <tr>\n",
       "      <th>Steven Brill</th>\n",
       "      <td>5</td>\n",
       "      <td>5</td>\n",
       "    </tr>\n",
       "    <tr>\n",
       "      <th>James Wan</th>\n",
       "      <td>4</td>\n",
       "      <td>4</td>\n",
       "    </tr>\n",
       "    <tr>\n",
       "      <th>Ashutosh Gowariker</th>\n",
       "      <td>4</td>\n",
       "      <td>6</td>\n",
       "    </tr>\n",
       "    <tr>\n",
       "      <th>Karan Johar</th>\n",
       "      <td>4</td>\n",
       "      <td>5</td>\n",
       "    </tr>\n",
       "  </tbody>\n",
       "</table>\n",
       "</div>"
      ],
      "text/plain": [
       "                    title_50  title\n",
       "name                               \n",
       "Martin Scorsese            5      5\n",
       "Steven Brill               5      5\n",
       "James Wan                  4      4\n",
       "Ashutosh Gowariker         4      6\n",
       "Karan Johar                4      5"
      ]
     },
     "execution_count": 53,
     "metadata": {},
     "output_type": "execute_result"
    }
   ],
   "source": [
    "# По рейтигу в IMDB и TMDB\n",
    "pd.DataFrame(name[(name.imdb_votes>IMDB50) & (name.tmdb_popularity>TMDB50)].groupby('name').title.nunique().sort_values(ascending=False))\\\n",
    ".merge(pd.DataFrame(name.groupby('name').title.nunique().sort_values(ascending=False)), how='inner', on='name', suffixes=('_50', '')).head(5)"
   ]
  },
  {
   "cell_type": "code",
   "execution_count": 54,
   "id": "ab932bba-f2b4-470e-bf5c-66b012688611",
   "metadata": {},
   "outputs": [
    {
     "data": {
      "text/html": [
       "<div>\n",
       "<style scoped>\n",
       "    .dataframe tbody tr th:only-of-type {\n",
       "        vertical-align: middle;\n",
       "    }\n",
       "\n",
       "    .dataframe tbody tr th {\n",
       "        vertical-align: top;\n",
       "    }\n",
       "\n",
       "    .dataframe thead th {\n",
       "        text-align: right;\n",
       "    }\n",
       "</style>\n",
       "<table border=\"1\" class=\"dataframe\">\n",
       "  <thead>\n",
       "    <tr style=\"text-align: right;\">\n",
       "      <th></th>\n",
       "      <th>title_t50</th>\n",
       "      <th>title</th>\n",
       "    </tr>\n",
       "    <tr>\n",
       "      <th>name</th>\n",
       "      <th></th>\n",
       "      <th></th>\n",
       "    </tr>\n",
       "  </thead>\n",
       "  <tbody>\n",
       "    <tr>\n",
       "      <th>Jay Karas</th>\n",
       "      <td>10</td>\n",
       "      <td>14</td>\n",
       "    </tr>\n",
       "    <tr>\n",
       "      <th>Cathy Garcia-Molina</th>\n",
       "      <td>9</td>\n",
       "      <td>12</td>\n",
       "    </tr>\n",
       "    <tr>\n",
       "      <th>Marcus Raboy</th>\n",
       "      <td>7</td>\n",
       "      <td>14</td>\n",
       "    </tr>\n",
       "    <tr>\n",
       "      <th>Ryan Polito</th>\n",
       "      <td>7</td>\n",
       "      <td>15</td>\n",
       "    </tr>\n",
       "    <tr>\n",
       "      <th>Shannon Hartman</th>\n",
       "      <td>6</td>\n",
       "      <td>7</td>\n",
       "    </tr>\n",
       "  </tbody>\n",
       "</table>\n",
       "</div>"
      ],
      "text/plain": [
       "                     title_t50  title\n",
       "name                                 \n",
       "Jay Karas                   10     14\n",
       "Cathy Garcia-Molina          9     12\n",
       "Marcus Raboy                 7     14\n",
       "Ryan Polito                  7     15\n",
       "Shannon Hartman              6      7"
      ]
     },
     "execution_count": 54,
     "metadata": {},
     "output_type": "execute_result"
    }
   ],
   "source": [
    "# Число работ с рейтингом больше среднего TMDB\n",
    "pd.DataFrame(name[name.tmdb_score>TMDB50S].groupby('name').title.nunique().sort_values(ascending=False))\\\n",
    ".merge(pd.DataFrame(name.groupby('name').title.nunique().sort_values(ascending=False)), how='inner', on='name', suffixes=('_t50', '')).head(5)"
   ]
  },
  {
   "cell_type": "code",
   "execution_count": 55,
   "id": "b8dd0279-5d0c-420a-a598-bff287bef78e",
   "metadata": {},
   "outputs": [
    {
     "data": {
      "text/html": [
       "<div>\n",
       "<style scoped>\n",
       "    .dataframe tbody tr th:only-of-type {\n",
       "        vertical-align: middle;\n",
       "    }\n",
       "\n",
       "    .dataframe tbody tr th {\n",
       "        vertical-align: top;\n",
       "    }\n",
       "\n",
       "    .dataframe thead th {\n",
       "        text-align: right;\n",
       "    }\n",
       "</style>\n",
       "<table border=\"1\" class=\"dataframe\">\n",
       "  <thead>\n",
       "    <tr style=\"text-align: right;\">\n",
       "      <th></th>\n",
       "      <th>title_i50</th>\n",
       "      <th>title</th>\n",
       "    </tr>\n",
       "    <tr>\n",
       "      <th>name</th>\n",
       "      <th></th>\n",
       "      <th></th>\n",
       "    </tr>\n",
       "  </thead>\n",
       "  <tbody>\n",
       "    <tr>\n",
       "      <th>Cathy Garcia-Molina</th>\n",
       "      <td>11</td>\n",
       "      <td>12</td>\n",
       "    </tr>\n",
       "    <tr>\n",
       "      <th>Youssef Chahine</th>\n",
       "      <td>10</td>\n",
       "      <td>11</td>\n",
       "    </tr>\n",
       "    <tr>\n",
       "      <th>Marcus Raboy</th>\n",
       "      <td>9</td>\n",
       "      <td>14</td>\n",
       "    </tr>\n",
       "    <tr>\n",
       "      <th>Jay Chapman</th>\n",
       "      <td>9</td>\n",
       "      <td>11</td>\n",
       "    </tr>\n",
       "    <tr>\n",
       "      <th>Jay Karas</th>\n",
       "      <td>9</td>\n",
       "      <td>14</td>\n",
       "    </tr>\n",
       "  </tbody>\n",
       "</table>\n",
       "</div>"
      ],
      "text/plain": [
       "                     title_i50  title\n",
       "name                                 \n",
       "Cathy Garcia-Molina         11     12\n",
       "Youssef Chahine             10     11\n",
       "Marcus Raboy                 9     14\n",
       "Jay Chapman                  9     11\n",
       "Jay Karas                    9     14"
      ]
     },
     "execution_count": 55,
     "metadata": {},
     "output_type": "execute_result"
    }
   ],
   "source": [
    "# Число работ с рейтингом больше среднего IMDB\n",
    "pd.DataFrame(name[name.imdb_score>IMDB50S].groupby('name').title.nunique().sort_values(ascending=False))\\\n",
    ".merge(pd.DataFrame(name.groupby('name').title.nunique().sort_values(ascending=False)), how='inner', on='name', suffixes=('_i50', '')).head(5)"
   ]
  },
  {
   "cell_type": "code",
   "execution_count": 56,
   "id": "63d7db75-cc79-4f84-b35e-930213dc5f99",
   "metadata": {},
   "outputs": [
    {
     "data": {
      "text/html": [
       "<div>\n",
       "<style scoped>\n",
       "    .dataframe tbody tr th:only-of-type {\n",
       "        vertical-align: middle;\n",
       "    }\n",
       "\n",
       "    .dataframe tbody tr th {\n",
       "        vertical-align: top;\n",
       "    }\n",
       "\n",
       "    .dataframe thead th {\n",
       "        text-align: right;\n",
       "    }\n",
       "</style>\n",
       "<table border=\"1\" class=\"dataframe\">\n",
       "  <thead>\n",
       "    <tr style=\"text-align: right;\">\n",
       "      <th></th>\n",
       "      <th>title_50</th>\n",
       "      <th>title</th>\n",
       "    </tr>\n",
       "    <tr>\n",
       "      <th>name</th>\n",
       "      <th></th>\n",
       "      <th></th>\n",
       "    </tr>\n",
       "  </thead>\n",
       "  <tbody>\n",
       "    <tr>\n",
       "      <th>Cathy Garcia-Molina</th>\n",
       "      <td>9</td>\n",
       "      <td>12</td>\n",
       "    </tr>\n",
       "    <tr>\n",
       "      <th>Jay Karas</th>\n",
       "      <td>9</td>\n",
       "      <td>14</td>\n",
       "    </tr>\n",
       "    <tr>\n",
       "      <th>Marcus Raboy</th>\n",
       "      <td>7</td>\n",
       "      <td>14</td>\n",
       "    </tr>\n",
       "    <tr>\n",
       "      <th>Shannon Hartman</th>\n",
       "      <td>6</td>\n",
       "      <td>7</td>\n",
       "    </tr>\n",
       "    <tr>\n",
       "      <th>Jay Chapman</th>\n",
       "      <td>6</td>\n",
       "      <td>11</td>\n",
       "    </tr>\n",
       "  </tbody>\n",
       "</table>\n",
       "</div>"
      ],
      "text/plain": [
       "                     title_50  title\n",
       "name                                \n",
       "Cathy Garcia-Molina         9     12\n",
       "Jay Karas                   9     14\n",
       "Marcus Raboy                7     14\n",
       "Shannon Hartman             6      7\n",
       "Jay Chapman                 6     11"
      ]
     },
     "execution_count": 56,
     "metadata": {},
     "output_type": "execute_result"
    }
   ],
   "source": [
    "# По скору в IMDB и TMDB\n",
    "pd.DataFrame(name[(name.imdb_score>IMDB50S) & (name.tmdb_score>TMDB50S)].groupby('name').title.nunique().sort_values(ascending=False))\\\n",
    ".merge(pd.DataFrame(name.groupby('name').title.nunique().sort_values(ascending=False)), how='inner', on='name', suffixes=('_50', '')).head(5)"
   ]
  },
  {
   "cell_type": "code",
   "execution_count": 57,
   "id": "146821ca-3f8d-46e1-8ed5-72897f6f5c5a",
   "metadata": {},
   "outputs": [
    {
     "data": {
      "text/html": [
       "<div>\n",
       "<style scoped>\n",
       "    .dataframe tbody tr th:only-of-type {\n",
       "        vertical-align: middle;\n",
       "    }\n",
       "\n",
       "    .dataframe tbody tr th {\n",
       "        vertical-align: top;\n",
       "    }\n",
       "\n",
       "    .dataframe thead th {\n",
       "        text-align: right;\n",
       "    }\n",
       "</style>\n",
       "<table border=\"1\" class=\"dataframe\">\n",
       "  <thead>\n",
       "    <tr style=\"text-align: right;\">\n",
       "      <th></th>\n",
       "      <th>title_50</th>\n",
       "      <th>title</th>\n",
       "    </tr>\n",
       "    <tr>\n",
       "      <th>name</th>\n",
       "      <th></th>\n",
       "      <th></th>\n",
       "    </tr>\n",
       "  </thead>\n",
       "  <tbody>\n",
       "    <tr>\n",
       "      <th>Martin Scorsese</th>\n",
       "      <td>5</td>\n",
       "      <td>5</td>\n",
       "    </tr>\n",
       "    <tr>\n",
       "      <th>James Wan</th>\n",
       "      <td>4</td>\n",
       "      <td>4</td>\n",
       "    </tr>\n",
       "    <tr>\n",
       "      <th>Guy Ritchie</th>\n",
       "      <td>4</td>\n",
       "      <td>4</td>\n",
       "    </tr>\n",
       "    <tr>\n",
       "      <th>Ryoo Seung-wan</th>\n",
       "      <td>4</td>\n",
       "      <td>5</td>\n",
       "    </tr>\n",
       "    <tr>\n",
       "      <th>Farhan Akhtar</th>\n",
       "      <td>3</td>\n",
       "      <td>4</td>\n",
       "    </tr>\n",
       "  </tbody>\n",
       "</table>\n",
       "</div>"
      ],
      "text/plain": [
       "                 title_50  title\n",
       "name                            \n",
       "Martin Scorsese         5      5\n",
       "James Wan               4      4\n",
       "Guy Ritchie             4      4\n",
       "Ryoo Seung-wan          4      5\n",
       "Farhan Akhtar           3      4"
      ]
     },
     "execution_count": 57,
     "metadata": {},
     "output_type": "execute_result"
    }
   ],
   "source": [
    "# Рейтинг и популярность IMDB и TMDB\n",
    "pd.DataFrame(name[(name.imdb_score>IMDB50S) & (name.tmdb_score>TMDB50S)&(name.imdb_votes>IMDB50) & (name.tmdb_popularity>TMDB50)].groupby('name').title.nunique().sort_values(ascending=False))\\\n",
    ".merge(pd.DataFrame(name.groupby('name').title.nunique().sort_values(ascending=False)), how='inner', on='name', suffixes=('_50', '')).head(5)"
   ]
  },
  {
   "cell_type": "markdown",
   "id": "cf859aaa-4131-4732-b4a4-5c9987042a25",
   "metadata": {},
   "source": [
    "### Самые обсуждаемые фильмы"
   ]
  },
  {
   "cell_type": "code",
   "execution_count": 58,
   "id": "a2c90eab-dba0-4d73-9d60-15a13079cc86",
   "metadata": {},
   "outputs": [
    {
     "data": {
      "text/html": [
       "<div>\n",
       "<style scoped>\n",
       "    .dataframe tbody tr th:only-of-type {\n",
       "        vertical-align: middle;\n",
       "    }\n",
       "\n",
       "    .dataframe tbody tr th {\n",
       "        vertical-align: top;\n",
       "    }\n",
       "\n",
       "    .dataframe thead th {\n",
       "        text-align: right;\n",
       "    }\n",
       "</style>\n",
       "<table border=\"1\" class=\"dataframe\">\n",
       "  <thead>\n",
       "    <tr style=\"text-align: right;\">\n",
       "      <th></th>\n",
       "      <th>title</th>\n",
       "      <th>imdb_votes</th>\n",
       "      <th>tmdb_popularity</th>\n",
       "    </tr>\n",
       "  </thead>\n",
       "  <tbody>\n",
       "    <tr>\n",
       "      <th>0</th>\n",
       "      <td>Inception</td>\n",
       "      <td>2294231.0</td>\n",
       "      <td>108.284</td>\n",
       "    </tr>\n",
       "    <tr>\n",
       "      <th>1</th>\n",
       "      <td>Titanic</td>\n",
       "      <td>1146825.0</td>\n",
       "      <td>155.683</td>\n",
       "    </tr>\n",
       "    <tr>\n",
       "      <th>2</th>\n",
       "      <td>The Amazing Spider-Man</td>\n",
       "      <td>646119.0</td>\n",
       "      <td>159.056</td>\n",
       "    </tr>\n",
       "    <tr>\n",
       "      <th>3</th>\n",
       "      <td>Don't Look Up</td>\n",
       "      <td>515337.0</td>\n",
       "      <td>120.874</td>\n",
       "    </tr>\n",
       "    <tr>\n",
       "      <th>4</th>\n",
       "      <td>The Conjuring</td>\n",
       "      <td>496484.0</td>\n",
       "      <td>221.925</td>\n",
       "    </tr>\n",
       "    <tr>\n",
       "      <th>5</th>\n",
       "      <td>Hancock</td>\n",
       "      <td>476593.0</td>\n",
       "      <td>121.985</td>\n",
       "    </tr>\n",
       "    <tr>\n",
       "      <th>6</th>\n",
       "      <td>How to Train Your Dragon 2</td>\n",
       "      <td>330975.0</td>\n",
       "      <td>134.700</td>\n",
       "    </tr>\n",
       "    <tr>\n",
       "      <th>7</th>\n",
       "      <td>The Conjuring 2</td>\n",
       "      <td>264195.0</td>\n",
       "      <td>171.724</td>\n",
       "    </tr>\n",
       "    <tr>\n",
       "      <th>8</th>\n",
       "      <td>Red Notice</td>\n",
       "      <td>264194.0</td>\n",
       "      <td>311.673</td>\n",
       "    </tr>\n",
       "    <tr>\n",
       "      <th>9</th>\n",
       "      <td>Chappie</td>\n",
       "      <td>249345.0</td>\n",
       "      <td>117.369</td>\n",
       "    </tr>\n",
       "    <tr>\n",
       "      <th>10</th>\n",
       "      <td>It Follows</td>\n",
       "      <td>236513.0</td>\n",
       "      <td>123.984</td>\n",
       "    </tr>\n",
       "    <tr>\n",
       "      <th>11</th>\n",
       "      <td>Project X</td>\n",
       "      <td>207830.0</td>\n",
       "      <td>148.440</td>\n",
       "    </tr>\n",
       "  </tbody>\n",
       "</table>\n",
       "</div>"
      ],
      "text/plain": [
       "                         title  imdb_votes  tmdb_popularity\n",
       "0                    Inception   2294231.0          108.284\n",
       "1                      Titanic   1146825.0          155.683\n",
       "2       The Amazing Spider-Man    646119.0          159.056\n",
       "3                Don't Look Up    515337.0          120.874\n",
       "4                The Conjuring    496484.0          221.925\n",
       "5                      Hancock    476593.0          121.985\n",
       "6   How to Train Your Dragon 2    330975.0          134.700\n",
       "7              The Conjuring 2    264195.0          171.724\n",
       "8                   Red Notice    264194.0          311.673\n",
       "9                      Chappie    249345.0          117.369\n",
       "10                  It Follows    236513.0          123.984\n",
       "11                   Project X    207830.0          148.440"
      ]
     },
     "execution_count": 58,
     "metadata": {},
     "output_type": "execute_result"
    }
   ],
   "source": [
    "a1 = name[['title','imdb_votes']].sort_values(by='imdb_votes', ascending=False).drop_duplicates().reset_index(drop=True).head(100)\n",
    "a2 = name[['title','tmdb_popularity']].sort_values(by='tmdb_popularity', ascending=False).drop_duplicates().reset_index(drop=True).head(100)\n",
    "a1.merge(a2, how = 'inner', on = 'title')"
   ]
  },
  {
   "cell_type": "markdown",
   "id": "7c312538-c300-4211-b7b6-68570564299b",
   "metadata": {},
   "source": [
    "### Наиболее часто встречающиеся слова в названиях и описаниях обсуждаемых фильмов с рейтингом больше среднего в IMDB и TMDB"
   ]
  },
  {
   "cell_type": "code",
   "execution_count": 59,
   "id": "2b923043-6f2b-4268-8c03-c4759cc12c07",
   "metadata": {},
   "outputs": [
    {
     "data": {
      "text/plain": [
       "{'2',\n",
       " 'call',\n",
       " 'christmas',\n",
       " 'family',\n",
       " 'find',\n",
       " 'girl',\n",
       " 'home',\n",
       " 'house',\n",
       " 'life',\n",
       " 'love',\n",
       " 'man',\n",
       " 'monster',\n",
       " 'movie',\n",
       " 'naruto',\n",
       " 'new',\n",
       " 'night',\n",
       " 'one',\n",
       " 'shippuden',\n",
       " 'story',\n",
       " 'true',\n",
       " 'two',\n",
       " 'war',\n",
       " 'world',\n",
       " 'years',\n",
       " 'young'}"
      ]
     },
     "execution_count": 59,
     "metadata": {},
     "output_type": "execute_result"
    }
   ],
   "source": [
    "a1 = pd.Series(' '.join(mov[(mov.tmdb_score>TMDB50S)&(mov.tmdb_popularity>TMDB50)&(mov.imdb_score>IMDB50S)&(mov.imdb_votes>IMDB50)]['words_title']).lower().split()).value_counts().head(15)\n",
    "a2 = pd.Series(' '.join(mov[(mov.tmdb_score>TMDB50S)&(mov.tmdb_popularity>TMDB50)&(mov.imdb_score>IMDB50S)&(mov.imdb_votes>IMDB50)]['descr_words']).lower().split()).value_counts().head(15)\n",
    "set(a1.keys()).union(set((a2.keys())))"
   ]
  },
  {
   "cell_type": "code",
   "execution_count": null,
   "id": "d939af4f-8767-4086-87d5-ad6b20d675ce",
   "metadata": {},
   "outputs": [],
   "source": []
  }
 ],
 "metadata": {
  "kernelspec": {
   "display_name": "Python 3",
   "language": "python",
   "name": "python3"
  },
  "language_info": {
   "codemirror_mode": {
    "name": "ipython",
    "version": 3
   },
   "file_extension": ".py",
   "mimetype": "text/x-python",
   "name": "python",
   "nbconvert_exporter": "python",
   "pygments_lexer": "ipython3",
   "version": "3.8.8"
  }
 },
 "nbformat": 4,
 "nbformat_minor": 5
}
